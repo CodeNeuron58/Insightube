{
 "cells": [
  {
   "cell_type": "code",
   "execution_count": 21,
   "id": "2b3a3c6b",
   "metadata": {},
   "outputs": [],
   "source": [
    "# Bag of words vs Tfidf"
   ]
  },
  {
   "cell_type": "code",
   "execution_count": 22,
   "id": "3604b6d2",
   "metadata": {},
   "outputs": [],
   "source": [
    "import pandas as pd\n",
    "import numpy as np\n",
    "\n",
    "data_url = 'https://raw.githubusercontent.com/Himanshu-1703/reddit-sentiment-analysis/refs/heads/main/data/reddit.csv'\n",
    "df = pd.read_csv(data_url)"
   ]
  },
  {
   "cell_type": "code",
   "execution_count": 23,
   "id": "cdcc5f1e",
   "metadata": {},
   "outputs": [
    {
     "data": {
      "application/vnd.microsoft.datawrangler.viewer.v0+json": {
       "columns": [
        {
         "name": "index",
         "rawType": "int64",
         "type": "integer"
        },
        {
         "name": "clean_comment",
         "rawType": "object",
         "type": "unknown"
        },
        {
         "name": "category",
         "rawType": "int64",
         "type": "integer"
        }
       ],
       "ref": "f378c41b-985e-44ad-ac5e-fb0671eee68a",
       "rows": [
        [
         "0",
         " family mormon have never tried explain them they still stare puzzled from time time like some kind strange creature nonetheless they have come admire for the patience calmness equanimity acceptance and compassion have developed all the things buddhism teaches ",
         "1"
        ],
        [
         "1",
         "buddhism has very much lot compatible with christianity especially considering that sin and suffering are almost the same thing suffering caused wanting things shouldn want going about getting things the wrong way christian this would mean wanting things that don coincide with god will and wanting things that coincide but without the aid jesus buddhism could also seen proof god all mighty will and omnipotence certainly christians are lucky have one such christ there side but what about everyone else well many christians believe god grace salvation and buddhism god way showing grace upon others would also help study the things jesus said and see how buddha has made similar claims such rich man getting into heaven joke basically advocating that should rid ourselves material possessions fact distinctly remembered jesus making someone cry because that someone asked what achieve salvation and jesus replied with live like buddhist very very roughly translated also point out that buddha rarely spoke anything about god theory personally because knew well enough leave that jesus and mohamed who came later just remember conflict difference opinion but education can fun involving and enlightening easier teach something than prove right like intelligent design ",
         "1"
        ],
        [
         "2",
         "seriously don say thing first all they won get its too complex explain normal people anyway and they are dogmatic then doesn matter what you say see mechante post and for any reason you decide later life move from buddhism and that doesn suit you identity though you still get keep all the wisdom then your family will treat you like you went through weird hippy phase for while there didncha and you never hear the end pro tip don put one these your wall jpg ",
         "-1"
        ],
        [
         "3",
         "what you have learned yours and only yours what you want teach different focus the goal not the wrapping paper buddhism can passed others without word about the buddha ",
         "0"
        ],
        [
         "4",
         "for your own benefit you may want read living buddha living christ thich nhat hanh you might find any subsequent discussions with your loved ones easier you are able articulate some the parallels that exist between buddhism and christianity don surprised they react negatively for having lost you treat them with compassion and deserved understanding although they may indeed display signs being hurt your new path properly sharing with them way that may alleviate their fear something they may perceive wrong the very least alien their beliefs may help allowing them the long run accept although not necessarily agree with your decision regardless where they end you have make your own way ",
         "1"
        ],
        [
         "5",
         "you should all sit down together and watch the simpsons episode where lisa becomes buddhist simpsons season episode she little faith then discuss ",
         "-1"
        ],
        [
         "6",
         " was teens when discovered zen meditation was then undiagnosed bpd being homeschooled and just gotten 56k modem with web connection where came across link zen meditation tried for couple weeks and the change was palpable felt the most profound sense peace ever felt grades immediately started going had more energy started martial arts just huge positive change all around parents asked something was wrong fundie parents when anything changes this was where naiveté kicked foolishly told them been trying meditation and really calmed down thought they happy that found something that helped but never forget what happened next mother affected this mockingly calm breathy voice she said you can pretend calm and happy all you want but without jesus you never content was that moment that any belief had christian faith all vanished completely realized that she had probably never been happy ever have never felt profoundly sorry for someone did for her that moment ",
         "1"
        ],
        [
         "7",
         "jesus was zen meets jew ",
         "0"
        ],
        [
         "8",
         "there are two varieties christians dogmatic that dwell words and conservative that take heart the spirit the teachings hate oversimplify things but helps this understanding you are discussing with dogmatic religious people who live the letter the law will uphill battle wish you luck you are discussing with moderates exchange idea should come fairly easily comparing contrasting also discussing parallel teachings presented differently wouldn out the ordinary they may give you relevant spiritual advice even though you are not believer their religion ",
         "-1"
        ],
        [
         "9",
         "dont worry about trying explain yourself just meditate regularly and try hard you can more aware everything else will follow coming from someone who has been throught his situation welcome pms ",
         "1"
        ],
        [
         "10",
         " recently told family that buddhist live the bible belt this whole ordeal involved leaving the baptist church and everything been pretty rough but those who really care about have been open and accepting they seen the good has created life and relationships with others fact there are handful christians who have lovely conversations with and that truly respect someone else suggested living buddha living christ great one read about the important dialogue between buddhists and christians also welcome you message ",
         "1"
        ],
        [
         "11",
         " unto others you would have them unto you would good start ",
         "1"
        ],
        [
         "12",
         "first understand that you are not anyway control how they will react always find that any subject better understood first learning the vocabulary explain what the word buddha means most people believe buddhists praise worship and follow guy named buddha christians due jesus let them know that one could both buddhist and christian with conflict the teachings and the messages jesus are indeed buddhist philosophy jesus became enlightened buddha and realized that had become annointed being christ then continue with your practice and let them work out their own issues that advice all the best ",
         "1"
        ],
        [
         "13",
         " recently heard similar question where person asked they should introduce meditation his loved ones who had challenges coping with problems life the answer from the lama was quite interesting instead giving people advice one should focus his practice that way others will see the change and maybe even ask about personally think better keep yourself even though you must really excited about you can also keep dharma books around the house and sure people will pick them for quick browse when you are not looking learn bit about other people traditions well browsing through books they owned ",
         "1"
        ],
        [
         "14",
         "different times different cultures same point they were trying get across jesus said god has beginning nor end buddha said mind was never born and has never died just replace the word meditation with prayer and couting the breath with the name jesus and everyone happy",
         "1"
        ],
        [
         "15",
         "does evil include the lady pai chunked ",
         "-1"
        ],
        [
         "16",
         "our campaign has two suns one pelor the other shamedan pelor the god all know and find bit stifling really shamedan the sun desert the burning sun who will kill you without mercy even second though shamedan brings drought and brings the fire that destroys all you own generally not very nice has race fey called desert hags who worship him and have radiant and fire resistance but they haven played nearly much part the campaign they should have ",
         "1"
        ],
        [
         "17",
         "technically you could argue that sobek evil would represent power and also crocodiles whereas also represents fertile land also the guy could shapeshift into crocodile badass ",
         "-1"
        ],
        [
         "18",
         " zarus ",
         "0"
        ],
        [
         "19",
         "blood and souls for lord arioch ",
         "0"
        ],
        [
         "20",
         " always liked vecna the one time was able use him story had blast playing the fact that was far not the most powerful deity but was one the most dangerous due his portfolio but favorite pale night who technically not deity but close enough guess most the abyssal lords and the rulers the nine hells are fairly straightforward and have ample backstory but her lack thereof just intriguing ",
         "1"
        ],
        [
         "21",
         "though don have any good suggestions for additional deities the moment you should probably have some overlap the cavern dwelling gnolls might consider pelor the god evil blinding them with his wicked light loki has sufficiently fooled them over the years into thinking their benefactor always leading them the bountiful crops they steal from the peasantry they have statues him fat woman giving out food the starving they view the god death the god justice giving righteous end those gnolls that have served brutal conflicts point view can change everything ",
         "-1"
        ],
        [
         "22",
         " cliche but you can wrong with cyric mean was mortal who just nabbed all when got the chance you gotta respect that ",
         "-1"
        ],
        [
         "23",
         "zon kuthon and his sister shelyn good deity have really cool story from the pathfinder setting plus off topic pathfinder has the coolest good deity ever cayden cailean was bard that got wasted one night stumbled into the temple the star stone artifact that can turn you into deity and woke the next morning with hangover memory the night before and godly powers ",
         "1"
        ],
        [
         "24",
         " homebrew setting the primary lawful evil deity named for friend lewie essentially has three domains tyranny law applied without mercy vengeance and community the idea being that cruel and harsh god but also recognizes that you catch more flies with honey than with vinegar thus his church often the most benevolent toward the common people day day basis the running gag that lewian churches sponsor more inner city basketball teams than any other major faith you probably want change the name but might make interesting dynamic within your setting ",
         "-1"
        ],
        [
         "25",
         "his name shall lump wherever lumps are there warts tree burls breasts humpback whales ",
         "0"
        ],
        [
         "26",
         "for one campaign pretty much just snatched the chaos god nurgle lord plague from the whfb wh40k universe renamed him narghull was nar ghull can remember random apostrophes are always nice though the campaign revolved around his cult trying wake the god from sleep that had lasted 1000 years but sadly stalled very lazy this was back was never meant encountered directly meaning never worked out any stats anything basically works spread plague and other diseases and pretty damn evil think ",
         "-1"
        ],
        [
         "27",
         "demogorgon because fuck you and your shit god ",
         "-1"
        ],
        [
         "28",
         "you want badasss evil gods you want real gods then choose from this list there plenty evil cthulhu mythos ",
         "-1"
        ],
        [
         "29",
         "pelor the burning hate the best evil god ",
         "-1"
        ],
        [
         "30",
         "fyi the traditional chtonic deity for magic for the romans least was the goddess hecate ",
         "1"
        ],
        [
         "31",
         " far evil goes big fan shar from the forgotten realms setting the god ultimate despair loss and suffering you know god evil when followers don even bother asking for small boons but instead invoke suffering themselves and others hopes that those events will enough prevent the god from needing get involved personally bringing suffering into the world shar isn one those pansy goddesses evil where you might get nod appreciation for sacrifice with shar you better kill somebody damn near ever day and you get nothing and like with check out the dogma here ",
         "-1"
        ],
        [
         "32",
         " like the idea prometheus giving magic the pcs however think that prometheus should more like demi god and that the reason why gives the magic mortals prometheus could jealous the fact that the gods have all the powers and they granted him only half status upon his creation thus his revenge giving humanity order turn the tides power among deities and mortals furthermore perhaps the repercussion prometheus feels from his action being dragged the underworld cerberus making him seem less than deity like and more mortal inhuman order face judgment from egyptian goddess morals virtue and judge the dead ",
         "1"
        ],
        [
         "33",
         "pelor the burning hate also hextor boss god tyranny and conquest always fun think one the books there god lawyers too ",
         "-1"
        ],
        [
         "34",
         "wee jas lawful neutral god death magic and necromancy not evil god but perfect representation the inevitable things which mortals fear while other evil gods make plans which may thwarted wee jas merely waits all shall come her the end also playing cleric her fabulous fun ",
         "1"
        ],
        [
         "35",
         "zen master bassui said when the functioning analytical consciousness destroyed feelings are purified this referred the pure land the west you truly want know the meaning being born the pure land you must first know the master who born this land the physical body has never from its inception been the true body but rather temporary formation the five aggregates after the four elements disperse what remains called the self the self originally empty what that born the pure land there master born the pure land what that seeks this land bliss just extinguish the ever seeking mind rid thoughts and attachment form and the body consisting the four elements will have individual self when there individual mind the nature mind and there aspect disorder ",
         "1"
        ],
        [
         "36",
         "pure land other power opposed the usual self power taught most buddhist schools though the pure land here and now and not some other dimension the afterlife ",
         "1"
        ],
        [
         "37",
         "there are many flavours buddhism pure land ideas are not common all them however the important thing realize doesn really matter that the big difference compared the abrahamic religions buddhism not dogmatic the sense bunch things that must taken literally else you are non believer sinner whatever maybe pure land ideas work for you great maybe they don great what works for you works for you what doesn work useless you the historical buddha himself taught dramatically different styles suit his audience parables and metaphors are just that the point where they take you not literally believing them literally and physically true zen koans are good example this very purely distilled most are the form stories but not stories you are believe physically happened you are reading history book that entirely irrelevant what the story does you that the point you are wondering did this really happen does this place really exist you are missing that point also worth noting that most things are about psychological phenomenon not physical phenomenon personally find this makes buddhist cosmology much easier understand than considering competitor physical cosmology they not conflict they just about different cosmos ",
         "1"
        ],
        [
         "38",
         " going try comment this simply can gets metaphysical and some may even say supernatural but hope you can try maintain open mind enough for help with your understanding everything that physical everything that exists the universe and beyond are created the power the mind exercised through consciousness mara created the samsara worlds planes dimensions that may experience joy sadness love heartbreaks etc this was done through his her its focus the mind and streams consciousness began attracted these worlds planes dimensions and begin develop craving for existence and thus begins the cycle rebirth the pure lands buddhism were created the focus the mind amitabha buddha way help individuals attain enlightenment their own pace amitabha buddha understood that the attraction emotions sex love and existence can overwhelming for normal individuals overcome within one lifetime 100 years average for human beings other beings much shorter and yet others much longer created the pure lands the west place refuge and practice for those who call upon his name sincerely this place not metaphorical state mind while these individuals are earth for lack better word real though not necessarily physical the way feel physical things via the electromagnetic repelling force electrons this world certain laws physics are applicable that world land plane dimension whatchamacallit certain laws physics not apply and yet newer laws superphysics would also the rule there that not the law our world now having been carried this land doesn mean that the individuals are guaranteed enlightenment first they still need cultivate themselves while there enlightenment not given dependant every single individual consciousness efforts shed the fetters samsara anger ignorance and jealousy and embrace the noble truths they may choose rejoin the samsaric worlds again and back into the cycle rebirth but least they have the option stay and cultivate themselves the pure land the west that would the main difference between the abrahamic idea heaven against the amitabha buddha pure lands the west hope this helps ",
         "1"
        ],
        [
         "39",
         " think your characterization pure land isn that far off there reason not that popular among westerners odd abandon christianity judaism and take pure land because first impressions buddhism was that was devoid dogma but now seems much leap faith the abrahamic religions least the pure land sect most forms buddhism have some sort supernatural element some orthodox believers might deny that just like some christians might attempt make scientific arguments for the world being 6000 years old the very least you have rebirth and different planes that includes devas zen seems have the least reverence for dogma which why popular the west the other western strategy assume things are meaningful figuratively and not literally but yeah buddhism religion the end the day for most its followers ",
         "1"
        ],
        [
         "40",
         "most religions have dogmatic orthodox well esoteric philosophic side the christian heaven can seen palace the clouds state mind rebirth buddhism can seen fact just superstition left over from other beliefs you interpret and understand you see fit like think about various religions talking about the same thing using different words and yes cherry pick what believe but honestly and very carefully think better than taking everything religion says and rejecting everything doesn say there must hundred different ways talk about enlightenment heaven pure land individuation alchemy rites passage education trials meditation the tricky part that what describes can easily explained words and most importantly has understood which different than just knowing reading about the pure land real place state mind doubt real place but sure some will believe buddhism has some dogma but not nearly much eastern religions ",
         "1"
        ],
        [
         "41",
         "you won find one answer your question but the pure land state mind perspective reality not separate place let quote thich nhat hanh human beings our deepest desire find environment which secure and where there love and understanding all want live such environment you live surroundings where you feel there security understanding and love and where people have the capacity transform their suffering fear and attachment then you live the pure land from finding our true home this isn leap faith all because you have already been the pure land but momentarily every time you bring the buddha mind fully then you are said the pure land imagine because you enter that state some degree this not matter faith but expanding upon what you know joyful experience quite different the abrahamic religions concept heaven which eschatological reality rather than gnostic one will add that there course are some who believe the pure land totally separate paradise however there are positive ways understanding this when the state mind another rebirth will seem like such foreign reality that may well different place entirely ",
         "1"
        ],
        [
         "42",
         " first impressions buddhism was that was devoid dogma isn good thing about buddhism least for outsider that much easier pick and choose what parts you not want use see dogma kind environment habitat for the profound and useful ideas develop all religions have something useful buddhist religions and not just one homogeneous buddhism just seem have something that more relevant and powerful the context our culture ",
         "1"
        ],
        [
         "43",
         "from limited knowledge the pure land not paradise but place contemplation stepping off point where you are given the knowledge leave the cycle suffering and rebirth anything more akin the now defunct catholic idea purgatory than actual heaven ",
         "1"
        ],
        [
         "44",
         " response your question about how amitabha created the pure land this quote from the article pure land buddhism wikipedia the longer sukhāvatīvyūha sūtra the buddha begins describing his attendant ānanda past life the buddha amitābha states that past life amitābha was once king who renounced his kingdom and became bodhisattva monk named dharmākara dharma storehouse under the guidance the buddha lokeśvararāja world sovereign king innumerable buddha lands throughout the ten directions were revealed him after meditating for five eons bodhisattva then made great series vows save all sentient beings and through his great merit created the realm sukhāvatī ultimate bliss this land sukhāvatī would later come known the pure land chinese translation important remember that buddhism has been around for thousands years and that for long time buddhists didn have telescopes big machines scan the brain with his holiness the dalai lama himself has said that the discoveries science and the teachings buddhism contradict then the discoveries science are correct this video tgv1gwvrz one the major teachings the buddha was test out each his teachings oneself order see they were true rather than taking his word faith without proof however course just man who has seen mountain some remote region where one has not traveled may believed until the distance that region crossed might have some sort faith buddhist teachings since the people doing the teachings have often devoted their whole lives the teachings the buddha ",
         "1"
        ],
        [
         "45",
         "exactly the song was jamming when made this ",
         "1"
        ],
        [
         "46",
         " nam indeed ",
         "0"
        ],
        [
         "47",
         " jbdbx28pxga",
         "0"
        ],
        [
         "48",
         "maybe they ate dosa who knows ",
         "0"
        ],
        [
         "49",
         "according this nbc chicago article walsh holds ladies week 169189026 html here what they have say about joe walsh unless you’ conservative suburban white male over rep joe walsh tea party ill has said something offend you walsh’ rhetoric has been caricature the image republicans party devoted only old white guys ",
         "-1"
        ]
       ],
       "shape": {
        "columns": 2,
        "rows": 37249
       }
      },
      "text/html": [
       "<div>\n",
       "<style scoped>\n",
       "    .dataframe tbody tr th:only-of-type {\n",
       "        vertical-align: middle;\n",
       "    }\n",
       "\n",
       "    .dataframe tbody tr th {\n",
       "        vertical-align: top;\n",
       "    }\n",
       "\n",
       "    .dataframe thead th {\n",
       "        text-align: right;\n",
       "    }\n",
       "</style>\n",
       "<table border=\"1\" class=\"dataframe\">\n",
       "  <thead>\n",
       "    <tr style=\"text-align: right;\">\n",
       "      <th></th>\n",
       "      <th>clean_comment</th>\n",
       "      <th>category</th>\n",
       "    </tr>\n",
       "  </thead>\n",
       "  <tbody>\n",
       "    <tr>\n",
       "      <th>0</th>\n",
       "      <td>family mormon have never tried explain them t...</td>\n",
       "      <td>1</td>\n",
       "    </tr>\n",
       "    <tr>\n",
       "      <th>1</th>\n",
       "      <td>buddhism has very much lot compatible with chr...</td>\n",
       "      <td>1</td>\n",
       "    </tr>\n",
       "    <tr>\n",
       "      <th>2</th>\n",
       "      <td>seriously don say thing first all they won get...</td>\n",
       "      <td>-1</td>\n",
       "    </tr>\n",
       "    <tr>\n",
       "      <th>3</th>\n",
       "      <td>what you have learned yours and only yours wha...</td>\n",
       "      <td>0</td>\n",
       "    </tr>\n",
       "    <tr>\n",
       "      <th>4</th>\n",
       "      <td>for your own benefit you may want read living ...</td>\n",
       "      <td>1</td>\n",
       "    </tr>\n",
       "    <tr>\n",
       "      <th>...</th>\n",
       "      <td>...</td>\n",
       "      <td>...</td>\n",
       "    </tr>\n",
       "    <tr>\n",
       "      <th>37244</th>\n",
       "      <td>jesus</td>\n",
       "      <td>0</td>\n",
       "    </tr>\n",
       "    <tr>\n",
       "      <th>37245</th>\n",
       "      <td>kya bhai pure saal chutiya banaya modi aur jab...</td>\n",
       "      <td>1</td>\n",
       "    </tr>\n",
       "    <tr>\n",
       "      <th>37246</th>\n",
       "      <td>downvote karna tha par upvote hogaya</td>\n",
       "      <td>0</td>\n",
       "    </tr>\n",
       "    <tr>\n",
       "      <th>37247</th>\n",
       "      <td>haha nice</td>\n",
       "      <td>1</td>\n",
       "    </tr>\n",
       "    <tr>\n",
       "      <th>37248</th>\n",
       "      <td>facebook itself now working bjp’ cell</td>\n",
       "      <td>0</td>\n",
       "    </tr>\n",
       "  </tbody>\n",
       "</table>\n",
       "<p>37249 rows × 2 columns</p>\n",
       "</div>"
      ],
      "text/plain": [
       "                                           clean_comment  category\n",
       "0       family mormon have never tried explain them t...         1\n",
       "1      buddhism has very much lot compatible with chr...         1\n",
       "2      seriously don say thing first all they won get...        -1\n",
       "3      what you have learned yours and only yours wha...         0\n",
       "4      for your own benefit you may want read living ...         1\n",
       "...                                                  ...       ...\n",
       "37244                                              jesus         0\n",
       "37245  kya bhai pure saal chutiya banaya modi aur jab...         1\n",
       "37246              downvote karna tha par upvote hogaya          0\n",
       "37247                                         haha nice          1\n",
       "37248             facebook itself now working bjp’ cell          0\n",
       "\n",
       "[37249 rows x 2 columns]"
      ]
     },
     "execution_count": 23,
     "metadata": {},
     "output_type": "execute_result"
    }
   ],
   "source": [
    "df"
   ]
  },
  {
   "cell_type": "code",
   "execution_count": 24,
   "id": "79900935",
   "metadata": {},
   "outputs": [],
   "source": [
    "# import mlflow\n",
    "# import dagshub\n",
    "\n",
    "# dagshub.init(repo_owner='CodeNeuron58', repo_name='Insightube', mlflow=True)"
   ]
  },
  {
   "cell_type": "code",
   "execution_count": 25,
   "id": "6f9454d1",
   "metadata": {},
   "outputs": [],
   "source": [
    "# mlflow.set_experiment('Final - 1')"
   ]
  },
  {
   "cell_type": "code",
   "execution_count": 26,
   "id": "60315bfe",
   "metadata": {},
   "outputs": [],
   "source": [
    "# from sklearn.feature_extraction.text import TfidfVectorizer"
   ]
  },
  {
   "cell_type": "code",
   "execution_count": 27,
   "id": "6891d0e5",
   "metadata": {},
   "outputs": [],
   "source": [
    "# vectorizer = TfidfVectorizer(max_features=max_features, ngram_range=ngram_range)\n",
    "# X_train = train_data['clean_comment'].values\n",
    "# y_train = train_data['category'].values\n",
    "# X_train_tfidf = vectorizer.fit_transform(X_train)"
   ]
  },
  {
   "cell_type": "code",
   "execution_count": 28,
   "id": "c516e3b2",
   "metadata": {},
   "outputs": [],
   "source": [
    "df = df.dropna()\n",
    "df = df.drop_duplicates()\n",
    "df = df[df['clean_comment'].str.strip() != '']"
   ]
  },
  {
   "cell_type": "code",
   "execution_count": 29,
   "id": "a50c15e9",
   "metadata": {},
   "outputs": [],
   "source": [
    "from sklearn.model_selection import train_test_split\n",
    "train_df, test_df = train_test_split(df, test_size=0.2, random_state=42)"
   ]
  },
  {
   "cell_type": "code",
   "execution_count": 30,
   "id": "70b7f57d",
   "metadata": {},
   "outputs": [
    {
     "data": {
      "application/vnd.microsoft.datawrangler.viewer.v0+json": {
       "columns": [
        {
         "name": "index",
         "rawType": "int64",
         "type": "integer"
        },
        {
         "name": "clean_comment",
         "rawType": "object",
         "type": "string"
        },
        {
         "name": "category",
         "rawType": "int64",
         "type": "integer"
        }
       ],
       "ref": "c3ae43c4-b1a7-4006-b897-b2f5f6976cd2",
       "rows": [
        [
         "36510",
         " found young modi guess which one ",
         "1"
        ],
        [
         "8959",
         "holy shit heard the whole johnny gosch story earlier this year podcast called sword and scale and was devastated thinking that something like this was even possible our government this defining moment our history need stop these fuckers ",
         "0"
        ],
        [
         "26360",
         "porra tava amando ler isso poderia pelo menos deixar dúvida era pescaria não precisava estragar assim expectativa ",
         "0"
        ],
        [
         "6306",
         "mmw will have something witty add this thread diwali 2016",
         "1"
        ],
        [
         "30267",
         " have similar chart for call quality would love see how low india stands there most the calls that make receive have terrible quality ",
         "0"
        ],
        [
         "36398",
         "wtf they really want win the elections are they actively trying sabotage their own campaign ",
         "1"
        ],
        [
         "10425",
         "modi won already period ",
         "0"
        ],
        [
         "524",
         " was sickular now secular now more skeptic than ever now will rate modi more just because has done something and others havent been able anything ",
         "1"
        ],
        [
         "17166",
         "thoughts cringe lord lena defending rapist hint disgusting",
         "-1"
        ],
        [
         "18998",
         "modi dodges questions like hilary clinton ",
         "0"
        ],
        [
         "4127",
         "focus news was reporting about today really nice channel ",
         "1"
        ],
        [
         "25067",
         "because the population dirt poor and illiterate terms politics and understanding how democratic country works ",
         "-1"
        ],
        [
         "8082",
         " can help you but wanted reassure you that your message was far from offensive and was fitting testament what good parent your mother was and what fine job she did raising you ",
         "1"
        ],
        [
         "14181",
         " trying get the price little bit lol ",
         "1"
        ],
        [
         "28037",
         " feel like they are gonna the same ",
         "0"
        ],
        [
         "11558",
         "modi brand hindu nationalism isn rancid trump white nationalism but still terrible ",
         "-1"
        ],
        [
         "13867",
         " har cheez mein modi modi ",
         "0"
        ],
        [
         "1019",
         "that would the best way separate the hindu extremist clan from the real believers development among the current bjp clan wish namo would that would not only just vote for him actively campaign from him distances him from that rss driven bjp ",
         "1"
        ],
        [
         "33498",
         "that guy commenting how everything falls place for now and 2014 wow mean they getting energy drinks for being this dumb this another level getting high wow",
         "-1"
        ],
        [
         "28468",
         "hell yeah let get rid our poor war",
         "-1"
        ],
        [
         "2652",
         " then excused himself that could take dump the sidewalk ",
         "0"
        ],
        [
         "3609",
         " have easy time lost and found",
         "1"
        ],
        [
         "8180",
         "these gau rakshak are just false charade many parts maharastra gau rakshak take money for safe passage cows for sale not for slaughter its just business for them ",
         "1"
        ],
        [
         "19738",
         " was trash when came and still trash same rhetorical jokes heard them years back ",
         "0"
        ],
        [
         "22922",
         "what part your left liberal psyche makes you hate the hindu right ",
         "-1"
        ],
        [
         "6208",
         "crying victim 9000 level",
         "-1"
        ],
        [
         "4546",
         " what the relationship between hinduism and the indian government hinduism the official religion india religion separate from the government similar the and canada ",
         "0"
        ],
        [
         "19146",
         " sorry trudeau come back after 2019 then hopefully you will meet your desi version ",
         "-1"
        ],
        [
         "21671",
         "holy shit that was masterclass thanks bjp for showing there limit being total piece shit ",
         "-1"
        ],
        [
         "1124",
         " doesn prove anything maybe that people can paid say things you want hear ",
         "0"
        ],
        [
         "27294",
         "nepanašu kad daug pastangų įdėjai post pavadinimą galvodamas",
         "0"
        ],
        [
         "8475",
         " bet was saying ि्ों े ाा ाा ै ो ",
         "0"
        ],
        [
         "34690",
         " ljun03 ，3哥这脑洞好清奇。。。 咋就不想想人家贪污腐败的人路子比你多的多，人家的钱早早就能换好，普通人就等着折腾吧。\n",
         "0"
        ],
        [
         "4028",
         "except large number the people from india against corruption campaign never joined have left aap besides order win they have chosen the same sort candidates the traditional political parties interesting report from the hindu based work association for democratic reforms impartial and well regarded organization ece its totally lesser the two evils situation ",
         "1"
        ],
        [
         "3093",
         "congress wants ncp sena join hands make government hope shiv sena doesnt full retard ",
         "-1"
        ],
        [
         "4795",
         "imagine what would have happened the app was titled manmohan singh mute forever mode guess ",
         "0"
        ],
        [
         "10744",
         "bahu fine che that all says",
         "1"
        ],
        [
         "2900",
         "why the idiot modi invited wonder knows any science better stick hindutva and rioting his strong points ",
         "1"
        ],
        [
         "20814",
         "another factor that are missing out why voted for modi inefficiency the congress led governments state well center that time every election have first second time voters swing voters voters who are much agitated working current government that they will vote anyone even least promising teach lesson most these were very well captured bjp there are many cities areas state which even being under congress control for long time did not prosper progress properly without any reason have been pune many years and this thing evident the city the city has been growing for almost last decades due automobiles first and then but there has been proper development has been done major changes been done improve city infrastructure major projects support growing population not enough space for affordable living etc the only major thing happened was the mumbai pune express way that too was under nitin gadkari similar examples are there for other cities too without any substantial improvements these kind cities regions went bjp mostly due disappointed voters congress government ",
         "1"
        ],
        [
         "349",
         "its true they had cut the power what douchebag congress ",
         "1"
        ],
        [
         "4893",
         " been waiting for this day ",
         "0"
        ],
        [
         "31211",
         " this point foreign agencies should just launch extraction operations rich london criminals the gonna useless not abetting towards this issue",
         "-1"
        ],
        [
         "3497",
         "straight pimpin ",
         "1"
        ],
        [
         "24192",
         "today remembered that europe and most other parts the world for that matter they use the term scheme describe plans ideas goals the scheme often used for less legitimate things our health insurance system for example can definitely called scheme the but would called scam europe ",
         "1"
        ],
        [
         "13799",
         "clu cannot make program only repurpose them ",
         "0"
        ],
        [
         "20960",
         " think response years culture war people are just tired ",
         "-1"
        ],
        [
         "6995",
         "any word from our chief this matter ",
         "0"
        ],
        [
         "3738",
         " they need wait until may work out bugs and drop the best product ",
         "1"
        ],
        [
         "35295",
         "aaaaawwww congress ruled only for years",
         "0"
        ],
        [
         "7778",
         "roads are getting built fast ",
         "1"
        ]
       ],
       "shape": {
        "columns": 2,
        "rows": 29434
       }
      },
      "text/html": [
       "<div>\n",
       "<style scoped>\n",
       "    .dataframe tbody tr th:only-of-type {\n",
       "        vertical-align: middle;\n",
       "    }\n",
       "\n",
       "    .dataframe tbody tr th {\n",
       "        vertical-align: top;\n",
       "    }\n",
       "\n",
       "    .dataframe thead th {\n",
       "        text-align: right;\n",
       "    }\n",
       "</style>\n",
       "<table border=\"1\" class=\"dataframe\">\n",
       "  <thead>\n",
       "    <tr style=\"text-align: right;\">\n",
       "      <th></th>\n",
       "      <th>clean_comment</th>\n",
       "      <th>category</th>\n",
       "    </tr>\n",
       "  </thead>\n",
       "  <tbody>\n",
       "    <tr>\n",
       "      <th>36510</th>\n",
       "      <td>found young modi guess which one</td>\n",
       "      <td>1</td>\n",
       "    </tr>\n",
       "    <tr>\n",
       "      <th>8959</th>\n",
       "      <td>holy shit heard the whole johnny gosch story e...</td>\n",
       "      <td>0</td>\n",
       "    </tr>\n",
       "    <tr>\n",
       "      <th>26360</th>\n",
       "      <td>porra tava amando ler isso poderia pelo menos ...</td>\n",
       "      <td>0</td>\n",
       "    </tr>\n",
       "    <tr>\n",
       "      <th>6306</th>\n",
       "      <td>mmw will have something witty add this thread ...</td>\n",
       "      <td>1</td>\n",
       "    </tr>\n",
       "    <tr>\n",
       "      <th>30267</th>\n",
       "      <td>have similar chart for call quality would lov...</td>\n",
       "      <td>0</td>\n",
       "    </tr>\n",
       "    <tr>\n",
       "      <th>...</th>\n",
       "      <td>...</td>\n",
       "      <td>...</td>\n",
       "    </tr>\n",
       "    <tr>\n",
       "      <th>17011</th>\n",
       "      <td>would just saying msm cant sensetionalize peo...</td>\n",
       "      <td>-1</td>\n",
       "    </tr>\n",
       "    <tr>\n",
       "      <th>6313</th>\n",
       "      <td>india will have counter strike team major atle...</td>\n",
       "      <td>1</td>\n",
       "    </tr>\n",
       "    <tr>\n",
       "      <th>11376</th>\n",
       "      <td>well think just like family member the same li...</td>\n",
       "      <td>0</td>\n",
       "    </tr>\n",
       "    <tr>\n",
       "      <th>867</th>\n",
       "      <td>this very good stuff thank you for taking the ...</td>\n",
       "      <td>1</td>\n",
       "    </tr>\n",
       "    <tr>\n",
       "      <th>15944</th>\n",
       "      <td>perchè</td>\n",
       "      <td>0</td>\n",
       "    </tr>\n",
       "  </tbody>\n",
       "</table>\n",
       "<p>29434 rows × 2 columns</p>\n",
       "</div>"
      ],
      "text/plain": [
       "                                           clean_comment  category\n",
       "36510                  found young modi guess which one          1\n",
       "8959   holy shit heard the whole johnny gosch story e...         0\n",
       "26360  porra tava amando ler isso poderia pelo menos ...         0\n",
       "6306   mmw will have something witty add this thread ...         1\n",
       "30267   have similar chart for call quality would lov...         0\n",
       "...                                                  ...       ...\n",
       "17011   would just saying msm cant sensetionalize peo...        -1\n",
       "6313   india will have counter strike team major atle...         1\n",
       "11376  well think just like family member the same li...         0\n",
       "867    this very good stuff thank you for taking the ...         1\n",
       "15944                                            perchè          0\n",
       "\n",
       "[29434 rows x 2 columns]"
      ]
     },
     "execution_count": 30,
     "metadata": {},
     "output_type": "execute_result"
    }
   ],
   "source": [
    "train_df"
   ]
  },
  {
   "cell_type": "code",
   "execution_count": 31,
   "id": "135f8cd6",
   "metadata": {},
   "outputs": [
    {
     "name": "stderr",
     "output_type": "stream",
     "text": [
      "[nltk_data] Downloading package wordnet to\n",
      "[nltk_data]     C:\\Users\\bipra\\AppData\\Roaming\\nltk_data...\n",
      "[nltk_data]   Package wordnet is already up-to-date!\n",
      "[nltk_data] Downloading package stopwords to\n",
      "[nltk_data]     C:\\Users\\bipra\\AppData\\Roaming\\nltk_data...\n",
      "[nltk_data]   Package stopwords is already up-to-date!\n"
     ]
    },
    {
     "data": {
      "text/plain": [
       "True"
      ]
     },
     "execution_count": 31,
     "metadata": {},
     "output_type": "execute_result"
    }
   ],
   "source": [
    "import pandas as pd\n",
    "import os\n",
    "import re\n",
    "import nltk\n",
    "from nltk.corpus import stopwords\n",
    "from nltk.stem import WordNetLemmatizer\n",
    "\n",
    "# Download required NLTK data\n",
    "nltk.download('wordnet')\n",
    "nltk.download('stopwords')\n"
   ]
  },
  {
   "cell_type": "code",
   "execution_count": 32,
   "id": "bd6eb315",
   "metadata": {},
   "outputs": [],
   "source": [
    "from nltk.stem import PorterStemmer"
   ]
  },
  {
   "cell_type": "code",
   "execution_count": null,
   "id": "02b12f32",
   "metadata": {},
   "outputs": [],
   "source": [
    "def preprocess_comment(comment):\n",
    "    \"\"\"Apply preprocessing transformations to a comment.\"\"\"\n",
    "    # Convert to lowercase\n",
    "    comment = comment.lower()\n",
    "\n",
    "    # Remove trailing and leading whitespaces\n",
    "    comment = comment.strip()\n",
    "\n",
    "    # Remove newline characters\n",
    "    comment = re.sub(r'\\n', ' ', comment)\n",
    "\n",
    "    # Remove non-alphanumeric characters, except punctuation\n",
    "    comment = re.sub(r'[^A-Za-z0-9\\s!?.,]', '', comment)\n",
    "\n",
    "    # Remove stopwords but retain important ones for sentiment analysis\n",
    "    stop_words = set(stopwords.words('english')) - {'not', 'but', 'however', 'no', 'yet'}\n",
    "    comment = ' '.join([word for word in comment.split() if word not in stop_words])\n",
    "\n",
    "    # Lemmatize the words\n",
    "    lemmatizer = WordNetLemmatizer()\n",
    "    comment = ' '.join([lemmatizer.lemmatize(word) for word in comment.split()])\n",
    "    \n",
    "\n",
    "    return comment\n",
    "\n",
    "# Normalize the text in both train and test datasets\n",
    "train_df['clean_comment'] = train_df['clean_comment'].apply(preprocess_comment)\n",
    "test_df['clean_comment'] = test_df['clean_comment'].apply(preprocess_comment)"
   ]
  },
  {
   "cell_type": "code",
   "execution_count": null,
   "id": "00b3466f",
   "metadata": {},
   "outputs": [
    {
     "data": {
      "application/vnd.microsoft.datawrangler.viewer.v0+json": {
       "columns": [
        {
         "name": "index",
         "rawType": "int64",
         "type": "integer"
        },
        {
         "name": "clean_comment",
         "rawType": "object",
         "type": "string"
        },
        {
         "name": "category",
         "rawType": "int64",
         "type": "integer"
        }
       ],
       "ref": "8db9582b-2a5d-493b-9566-2f8a8b7fe5fa",
       "rows": [
        [
         "36510",
         "found young modi guess one",
         "1"
        ],
        [
         "8959",
         "holi shit heard whole johnni gosch stori earlier year podcast call sword scale devast think someth like even possibl govern defin moment histori need stop fucker",
         "0"
        ],
        [
         "26360",
         "porra tava amando ler isso poderia pelo meno deixar dvida era pescaria no precisava estragar assim expectativa",
         "0"
        ],
        [
         "6306",
         "mmw someth witti add thread diwali 2016",
         "1"
        ],
        [
         "30267",
         "similar chart call qualiti would love see low india stand call make receiv terribl qualiti",
         "0"
        ],
        [
         "36398",
         "wtf realli want win elect activ tri sabotag campaign",
         "1"
        ],
        [
         "10425",
         "modi alreadi period",
         "0"
        ],
        [
         "524",
         "sickular secular skeptic ever rate modi done someth other havent abl anyth",
         "1"
        ],
        [
         "17166",
         "thought cring lord lena defend rapist hint disgust",
         "-1"
        ],
        [
         "18998",
         "modi dodg question like hilari clinton",
         "0"
        ],
        [
         "4127",
         "focu news report today realli nice channel",
         "1"
        ],
        [
         "25067",
         "popul dirt poor illiter term polit understand democrat countri work",
         "-1"
        ],
        [
         "8082",
         "help but want reassur messag far offens fit testament good parent mother fine job rais",
         "1"
        ],
        [
         "14181",
         "tri get price littl bit lol",
         "1"
        ],
        [
         "28037",
         "feel like gonna",
         "0"
        ],
        [
         "11558",
         "modi brand hindu nation rancid trump white nation but still terribl",
         "-1"
        ],
        [
         "13867",
         "har cheez mein modi modi",
         "0"
        ],
        [
         "1019",
         "would best way separ hindu extremist clan real believ develop among current bjp clan wish namo would would not vote activ campaign distanc rss driven bjp",
         "1"
        ],
        [
         "33498",
         "guy comment everyth fall place 2014 wow mean get energi drink dumb anoth level get high wow",
         "-1"
        ],
        [
         "28468",
         "hell yeah let get rid poor war",
         "-1"
        ],
        [
         "2652",
         "excus could take dump sidewalk",
         "0"
        ],
        [
         "3609",
         "easi time lost found",
         "1"
        ],
        [
         "8180",
         "gau rakshak fals charad mani part maharastra gau rakshak take money safe passag cow sale not slaughter busi",
         "1"
        ],
        [
         "19738",
         "trash came still trash rhetor joke heard year back",
         "0"
        ],
        [
         "22922",
         "part left liber psych make hate hindu right",
         "-1"
        ],
        [
         "6208",
         "cri victim 9000 level",
         "-1"
        ],
        [
         "4546",
         "relationship hinduism indian govern hinduism offici religion india religion separ govern similar canada",
         "0"
        ],
        [
         "19146",
         "sorri trudeau come back 2019 hope meet desi version",
         "-1"
        ],
        [
         "21671",
         "holi shit masterclass thank bjp show limit total piec shit",
         "-1"
        ],
        [
         "1124",
         "prove anyth mayb peopl paid say thing want hear",
         "0"
        ],
        [
         "27294",
         "nepanau kad daug pastang djai post pavadinim galvodama",
         "0"
        ],
        [
         "8475",
         "bet say",
         "0"
        ],
        [
         "34690",
         "ljun03 3",
         "0"
        ],
        [
         "4028",
         "except larg number peopl india corrupt campaign never join left aap besid order win chosen sort candid tradit polit parti interest report hindu base work associ democrat reform imparti well regard organ ece total lesser two evil situat",
         "1"
        ],
        [
         "3093",
         "congress want ncp sena join hand make govern hope shiv sena doesnt full retard",
         "-1"
        ],
        [
         "4795",
         "imagin would happen app titl manmohan singh mute forev mode guess",
         "0"
        ],
        [
         "10744",
         "bahu fine che say",
         "1"
        ],
        [
         "2900",
         "idiot modi invit wonder know scienc better stick hindutva riot strong point",
         "1"
        ],
        [
         "20814",
         "anoth factor miss vote modi ineffici congress led govern state well center time everi elect first second time voter swing voter voter much agit work current govern vote anyon even least promis teach lesson well captur bjp mani citi area state even congress control long time not prosper progress properli without reason pune mani year thing evid citi citi grow almost last decad due automobil first but proper develop done major chang done improv citi infrastructur major project support grow popul not enough space afford live etc major thing happen mumbai pune express way nitin gadkari similar exampl citi without substanti improv kind citi region went bjp mostli due disappoint voter congress govern",
         "1"
        ],
        [
         "349",
         "true cut power douchebag congress",
         "1"
        ],
        [
         "4893",
         "wait day",
         "0"
        ],
        [
         "31211",
         "point foreign agenc launch extract oper rich london crimin gonna useless not abet toward issu",
         "-1"
        ],
        [
         "3497",
         "straight pimpin",
         "1"
        ],
        [
         "24192",
         "today rememb europ part world matter use term scheme describ plan idea goal scheme often use less legitim thing health insur system exampl definit call scheme but would call scam europ",
         "1"
        ],
        [
         "13799",
         "clu cannot make program repurpos",
         "0"
        ],
        [
         "20960",
         "think respons year cultur war peopl tire",
         "-1"
        ],
        [
         "6995",
         "word chief matter",
         "0"
        ],
        [
         "3738",
         "need wait may work bug drop best product",
         "1"
        ],
        [
         "35295",
         "aaaaawwww congress rule year",
         "0"
        ],
        [
         "7778",
         "road get built fast",
         "1"
        ]
       ],
       "shape": {
        "columns": 2,
        "rows": 29434
       }
      },
      "text/html": [
       "<div>\n",
       "<style scoped>\n",
       "    .dataframe tbody tr th:only-of-type {\n",
       "        vertical-align: middle;\n",
       "    }\n",
       "\n",
       "    .dataframe tbody tr th {\n",
       "        vertical-align: top;\n",
       "    }\n",
       "\n",
       "    .dataframe thead th {\n",
       "        text-align: right;\n",
       "    }\n",
       "</style>\n",
       "<table border=\"1\" class=\"dataframe\">\n",
       "  <thead>\n",
       "    <tr style=\"text-align: right;\">\n",
       "      <th></th>\n",
       "      <th>clean_comment</th>\n",
       "      <th>category</th>\n",
       "    </tr>\n",
       "  </thead>\n",
       "  <tbody>\n",
       "    <tr>\n",
       "      <th>36510</th>\n",
       "      <td>found young modi guess one</td>\n",
       "      <td>1</td>\n",
       "    </tr>\n",
       "    <tr>\n",
       "      <th>8959</th>\n",
       "      <td>holi shit heard whole johnni gosch stori earli...</td>\n",
       "      <td>0</td>\n",
       "    </tr>\n",
       "    <tr>\n",
       "      <th>26360</th>\n",
       "      <td>porra tava amando ler isso poderia pelo meno d...</td>\n",
       "      <td>0</td>\n",
       "    </tr>\n",
       "    <tr>\n",
       "      <th>6306</th>\n",
       "      <td>mmw someth witti add thread diwali 2016</td>\n",
       "      <td>1</td>\n",
       "    </tr>\n",
       "    <tr>\n",
       "      <th>30267</th>\n",
       "      <td>similar chart call qualiti would love see low ...</td>\n",
       "      <td>0</td>\n",
       "    </tr>\n",
       "    <tr>\n",
       "      <th>...</th>\n",
       "      <td>...</td>\n",
       "      <td>...</td>\n",
       "    </tr>\n",
       "    <tr>\n",
       "      <th>17011</th>\n",
       "      <td>would say msm cant sensetion peopl hate respon...</td>\n",
       "      <td>-1</td>\n",
       "    </tr>\n",
       "    <tr>\n",
       "      <th>6313</th>\n",
       "      <td>india counter strike team major atleast one three</td>\n",
       "      <td>1</td>\n",
       "    </tr>\n",
       "    <tr>\n",
       "      <th>11376</th>\n",
       "      <td>well think like famili member line line line l...</td>\n",
       "      <td>0</td>\n",
       "    </tr>\n",
       "    <tr>\n",
       "      <th>867</th>\n",
       "      <td>good stuff thank take time post point rais dis...</td>\n",
       "      <td>1</td>\n",
       "    </tr>\n",
       "    <tr>\n",
       "      <th>15944</th>\n",
       "      <td>perch</td>\n",
       "      <td>0</td>\n",
       "    </tr>\n",
       "  </tbody>\n",
       "</table>\n",
       "<p>29434 rows × 2 columns</p>\n",
       "</div>"
      ],
      "text/plain": [
       "                                           clean_comment  category\n",
       "36510                         found young modi guess one         1\n",
       "8959   holi shit heard whole johnni gosch stori earli...         0\n",
       "26360  porra tava amando ler isso poderia pelo meno d...         0\n",
       "6306             mmw someth witti add thread diwali 2016         1\n",
       "30267  similar chart call qualiti would love see low ...         0\n",
       "...                                                  ...       ...\n",
       "17011  would say msm cant sensetion peopl hate respon...        -1\n",
       "6313   india counter strike team major atleast one three         1\n",
       "11376  well think like famili member line line line l...         0\n",
       "867    good stuff thank take time post point rais dis...         1\n",
       "15944                                              perch         0\n",
       "\n",
       "[29434 rows x 2 columns]"
      ]
     },
     "execution_count": 14,
     "metadata": {},
     "output_type": "execute_result"
    }
   ],
   "source": [
    "train_df"
   ]
  },
  {
   "cell_type": "code",
   "execution_count": null,
   "id": "251bddff",
   "metadata": {},
   "outputs": [
    {
     "data": {
      "application/vnd.microsoft.datawrangler.viewer.v0+json": {
       "columns": [
        {
         "name": "index",
         "rawType": "int64",
         "type": "integer"
        },
        {
         "name": "clean_comment",
         "rawType": "object",
         "type": "string"
        },
        {
         "name": "category",
         "rawType": "int64",
         "type": "integer"
        }
       ],
       "ref": "4c8541ee-cf6f-4600-90e8-a6fb4774a9ec",
       "rows": [
        [
         "3824",
         "hunter vanguard armor incred dat blood splatter",
         "1"
        ],
        [
         "13598",
         "fuck cunt done feed flesh probabl show intoler poverti unemploy popul growth illiteraci give reason shout bharat mata jai fuck moron",
         "-1"
        ],
        [
         "21341",
         "happi one great thing happen recent",
         "1"
        ],
        [
         "35986",
         "sourc behind articl seem like propoganda edit author need give proof bullshit claim",
         "-1"
        ],
        [
         "2976",
         "like guy mayb someday replac china india",
         "0"
        ],
        [
         "36236",
         "watch tyt interview encourag other donat tulsi2020 com http tulsi2020 com jimmi 11k peopl watch tyt",
         "1"
        ],
        [
         "33404",
         "guess someon higher list kamra due elect reason",
         "1"
        ],
        [
         "1438",
         "real bhagoda",
         "1"
        ],
        [
         "32133",
         "bhupendra chaubey ad list bikao journalist news reader databas",
         "0"
        ],
        [
         "9042",
         "everyon get fuck upvot import",
         "-1"
        ],
        [
         "1562",
         "dare",
         "0"
        ],
        [
         "16879",
         "india food friend hope",
         "0"
        ],
        [
         "264",
         "nonsens claim panacea evil turn india supapowaaa 2015 find one poster claim almost everyon acknowledg best atleast one best amongst current avail lot provid govern atleast better rel current upa regim",
         "1"
        ],
        [
         "35140",
         "tell like bad thing",
         "-1"
        ],
        [
         "17211",
         "suppos state corrupt scandal bjp gov plenti but not surfac yet",
         "0"
        ],
        [
         "34110",
         "think damag done congress becom hindutva becom hinduiz parti follow suit edit congress soft hindutva long time part reason situat",
         "1"
        ],
        [
         "11351",
         "that impress",
         "1"
        ],
        [
         "36626",
         "dont understand thought sub confus right left winger but seem like major bjp lol definit right wing vibe",
         "1"
        ],
        [
         "5431",
         "qual vostra puntata preferita rick morti mia total rickal sleepi gari nel cuor",
         "0"
        ],
        [
         "30135",
         "take care ourslev mean need modi right",
         "1"
        ],
        [
         "17857",
         "arnold prick crowd cheer boundari say cheer avoid lowest total",
         "0"
        ],
        [
         "25656",
         "dear bjp fuck petti polit sincer voter rajasthan",
         "1"
        ],
        [
         "5351",
         "agre titl 100 articl content lot amateur poltic punditri tire none wannab psephologist actual look data make tall claim",
         "-1"
        ],
        [
         "21544",
         "one misstep see idea baldur think krato fay jotun think think krato know fay hid key get jotunheim but not krato one seem impli know exactli krato freya even magni modi think like aesir know kind foreign skulk around realm current sarcast dialogu first fight much better krato peopl suppos assum refer purport great greek empir suppos artist cultur philosoph",
         "1"
        ],
        [
         "7392",
         "wait thread get turn polit shit show",
         "-1"
        ],
        [
         "21537",
         "museum today describ religion set discret religi practic collect describ hinduism unfortun atroci parti claim repres exact equival muslim told islam terrorist somehow repres",
         "-1"
        ],
        [
         "17059",
         "get quickfang without stori delet mine without know first charact",
         "1"
        ],
        [
         "6398",
         "sajid score raini night stoke",
         "0"
        ],
        [
         "13819",
         "jumla yojana",
         "0"
        ],
        [
         "36466",
         "peopl think tulsi seem bit like opportunist not even condemn track record errat place realli pinpoint",
         "1"
        ],
        [
         "36742",
         "beauti open genuin but magic like watch lotr harri potter stuff geek magic but actual magic talk element invok someth still get year open element pithi descript deiti find worth consid deiti describ term self exist equanim speak deiti practic but also natur deiti",
         "1"
        ],
        [
         "5732",
         "sharpen pitchfork guy shit get real",
         "0"
        ],
        [
         "32907",
         "2014 har har modi ghar ghar modi 2019 har har modi chowkidar modi",
         "0"
        ],
        [
         "26847",
         "also sear die",
         "0"
        ],
        [
         "31169",
         "peopl trust pakistan deni exist terrorist land found kill bin laden countri lie teeth forev happen kari neenda least struck twice respons count 250 mayb satellit feed well spi pakistan easili spot must movement els would airstrik allow went insid pakistan breach pakistani airspac drop bomb 1gm 1000kg immateri got away horrifi pakistan india attack soil but intern commun realli speak agaijsi india number dead less 250 but terrorist die amount still estim bjp tri claim credit someth uniqu congress would polit parti but least bjp govern power act respons cowardli act terrorist call jihad without know true mean let not tarnish countri imag imag martyr famili tri make polit stand polit parti",
         "1"
        ],
        [
         "18295",
         "amituofo",
         "0"
        ],
        [
         "21105",
         "may lie twitter polit gain admiss insid courtroom consid proof come conclus actual burnt",
         "0"
        ],
        [
         "32528",
         "unfortun lot commentari indian polit come ignor thing peopl read west bias draw wrong comparison peopl not live not put lot think never get indian polit right",
         "-1"
        ],
        [
         "35569",
         "fuck anti satellit warfar wtf go",
         "-1"
        ],
        [
         "36505",
         "gener elect 2019",
         "1"
        ],
        [
         "4288",
         "bhenchod azam khan",
         "0"
        ],
        [
         "7244",
         "man realli hard parent especi mom never strict but ye religi start work stop follow shit last nail coffin move abroad mellow time stop everi frig practic becom agnost stupid cultur practic stop follow heart time live let live motto hous",
         "-1"
        ],
        [
         "2463",
         "aree yaar mod behav like wikipedia admin",
         "0"
        ],
        [
         "11584",
         "trump not live liber agenda complet fuckwad kick propaganda campaign high gear bash post would shed light idea fact world leader listen get trump said mean thing far perform mix bag shit short amount time offic explain action presid uniqu support denounc trump person care much trudeau elect vote elect accept wait bit see actual well bigger idiot anticip but least made educ decis instead throw buzzfe nonsens everi onlin forum allow alreadi get old peopl make harder everyday give rat as plight cri wolf everi singl time name come movement favour shut",
         "-1"
        ],
        [
         "3312",
         "ugh mind numb world need reset button cannot even fathom anyon commit pre medit murder rape pure evil human much crap world today",
         "-1"
        ],
        [
         "12765",
         "lol yogi commun say modi modi past modi made inflammatori speech 2002 well see modi support disappoint yogi hard core hindutva commun inde disappoint hypocrit say least",
         "-1"
        ],
        [
         "6047",
         "eli5 modi person invest import stuff take care prime minist countri",
         "1"
        ],
        [
         "32954",
         "unless get complet congress vote jd win easili mla assembl segment mandya even somehow sumalatha win gurante join congress still fun time next one month",
         "1"
        ],
        [
         "35066",
         "technicallythetruth",
         "0"
        ],
        [
         "15121",
         "mfw anti nation muslim rahman made vand mataram big back 90 even shitti propaganda",
         "-1"
        ]
       ],
       "shape": {
        "columns": 2,
        "rows": 7359
       }
      },
      "text/html": [
       "<div>\n",
       "<style scoped>\n",
       "    .dataframe tbody tr th:only-of-type {\n",
       "        vertical-align: middle;\n",
       "    }\n",
       "\n",
       "    .dataframe tbody tr th {\n",
       "        vertical-align: top;\n",
       "    }\n",
       "\n",
       "    .dataframe thead th {\n",
       "        text-align: right;\n",
       "    }\n",
       "</style>\n",
       "<table border=\"1\" class=\"dataframe\">\n",
       "  <thead>\n",
       "    <tr style=\"text-align: right;\">\n",
       "      <th></th>\n",
       "      <th>clean_comment</th>\n",
       "      <th>category</th>\n",
       "    </tr>\n",
       "  </thead>\n",
       "  <tbody>\n",
       "    <tr>\n",
       "      <th>3824</th>\n",
       "      <td>hunter vanguard armor incred dat blood splatter</td>\n",
       "      <td>1</td>\n",
       "    </tr>\n",
       "    <tr>\n",
       "      <th>13598</th>\n",
       "      <td>fuck cunt done feed flesh probabl show intoler...</td>\n",
       "      <td>-1</td>\n",
       "    </tr>\n",
       "    <tr>\n",
       "      <th>21341</th>\n",
       "      <td>happi one great thing happen recent</td>\n",
       "      <td>1</td>\n",
       "    </tr>\n",
       "    <tr>\n",
       "      <th>35986</th>\n",
       "      <td>sourc behind articl seem like propoganda edit ...</td>\n",
       "      <td>-1</td>\n",
       "    </tr>\n",
       "    <tr>\n",
       "      <th>2976</th>\n",
       "      <td>like guy mayb someday replac china india</td>\n",
       "      <td>0</td>\n",
       "    </tr>\n",
       "    <tr>\n",
       "      <th>...</th>\n",
       "      <td>...</td>\n",
       "      <td>...</td>\n",
       "    </tr>\n",
       "    <tr>\n",
       "      <th>10095</th>\n",
       "      <td>team standard pick one jordan matthew isaiah c...</td>\n",
       "      <td>0</td>\n",
       "    </tr>\n",
       "    <tr>\n",
       "      <th>7742</th>\n",
       "      <td>base apu</td>\n",
       "      <td>0</td>\n",
       "    </tr>\n",
       "    <tr>\n",
       "      <th>17216</th>\n",
       "      <td>ravish journalist india rest becom govern mout...</td>\n",
       "      <td>0</td>\n",
       "    </tr>\n",
       "    <tr>\n",
       "      <th>35477</th>\n",
       "      <td>let releas unemploy data report guess releas e...</td>\n",
       "      <td>1</td>\n",
       "    </tr>\n",
       "    <tr>\n",
       "      <th>18788</th>\n",
       "      <td>honest india countri cheapli sell stuff street...</td>\n",
       "      <td>1</td>\n",
       "    </tr>\n",
       "  </tbody>\n",
       "</table>\n",
       "<p>7359 rows × 2 columns</p>\n",
       "</div>"
      ],
      "text/plain": [
       "                                           clean_comment  category\n",
       "3824     hunter vanguard armor incred dat blood splatter         1\n",
       "13598  fuck cunt done feed flesh probabl show intoler...        -1\n",
       "21341                happi one great thing happen recent         1\n",
       "35986  sourc behind articl seem like propoganda edit ...        -1\n",
       "2976            like guy mayb someday replac china india         0\n",
       "...                                                  ...       ...\n",
       "10095  team standard pick one jordan matthew isaiah c...         0\n",
       "7742                                            base apu         0\n",
       "17216  ravish journalist india rest becom govern mout...         0\n",
       "35477  let releas unemploy data report guess releas e...         1\n",
       "18788  honest india countri cheapli sell stuff street...         1\n",
       "\n",
       "[7359 rows x 2 columns]"
      ]
     },
     "execution_count": 15,
     "metadata": {},
     "output_type": "execute_result"
    }
   ],
   "source": [
    "test_df"
   ]
  },
  {
   "cell_type": "code",
   "execution_count": null,
   "id": "7f53a6b4",
   "metadata": {},
   "outputs": [],
   "source": [
    "import pandas as pd\n",
    "import os\n",
    "import pickle\n",
    "import yaml\n",
    "import lightgbm as lgb\n",
    "from sklearn.feature_extraction.text import TfidfVectorizer\n"
   ]
  },
  {
   "cell_type": "code",
   "execution_count": null,
   "id": "02235a3f",
   "metadata": {},
   "outputs": [],
   "source": [
    "\n",
    "max_features = 10000\n",
    "ngram_range = (1, 3)\n",
    "learning_rate = 0.09\n",
    "max_depth = 20\n",
    "n_estimators = 367"
   ]
  },
  {
   "cell_type": "code",
   "execution_count": null,
   "id": "d4808da9",
   "metadata": {},
   "outputs": [],
   "source": [
    "vectorizer = TfidfVectorizer(max_features=max_features, ngram_range= ngram_range)\n",
    "X_train = train_df['clean_comment'].values\n",
    "y_train = train_df['category'].values\n",
    "X_train_tfidf = vectorizer.fit_transform(X_train)"
   ]
  },
  {
   "cell_type": "code",
   "execution_count": null,
   "id": "1541e407",
   "metadata": {},
   "outputs": [
    {
     "name": "stdout",
     "output_type": "stream",
     "text": [
      "[LightGBM] [Info] Auto-choosing row-wise multi-threading, the overhead of testing was 1.327301 seconds.\n",
      "You can set `force_row_wise=true` to remove the overhead.\n",
      "And if memory is not enough, you can set `force_col_wise=true`.\n",
      "[LightGBM] [Info] Total Bins 135924\n",
      "[LightGBM] [Info] Number of data points in the train set: 29434, number of used features: 4157\n",
      "[LightGBM] [Info] Start training from score -1.098612\n",
      "[LightGBM] [Info] Start training from score -1.098612\n",
      "[LightGBM] [Info] Start training from score -1.098612\n",
      "[LightGBM] [Warning] No further splits with positive gain, best gain: -inf\n",
      "[LightGBM] [Warning] No further splits with positive gain, best gain: -inf\n",
      "[LightGBM] [Warning] No further splits with positive gain, best gain: -inf\n",
      "[LightGBM] [Warning] No further splits with positive gain, best gain: -inf\n",
      "[LightGBM] [Warning] No further splits with positive gain, best gain: -inf\n",
      "[LightGBM] [Warning] No further splits with positive gain, best gain: -inf\n",
      "[LightGBM] [Warning] No further splits with positive gain, best gain: -inf\n",
      "[LightGBM] [Warning] No further splits with positive gain, best gain: -inf\n",
      "[LightGBM] [Warning] No further splits with positive gain, best gain: -inf\n",
      "[LightGBM] [Warning] No further splits with positive gain, best gain: -inf\n",
      "[LightGBM] [Warning] No further splits with positive gain, best gain: -inf\n",
      "[LightGBM] [Warning] No further splits with positive gain, best gain: -inf\n",
      "[LightGBM] [Warning] No further splits with positive gain, best gain: -inf\n",
      "[LightGBM] [Warning] No further splits with positive gain, best gain: -inf\n",
      "[LightGBM] [Warning] No further splits with positive gain, best gain: -inf\n",
      "[LightGBM] [Warning] No further splits with positive gain, best gain: -inf\n",
      "[LightGBM] [Warning] No further splits with positive gain, best gain: -inf\n",
      "[LightGBM] [Warning] No further splits with positive gain, best gain: -inf\n",
      "[LightGBM] [Warning] No further splits with positive gain, best gain: -inf\n",
      "[LightGBM] [Warning] No further splits with positive gain, best gain: -inf\n",
      "[LightGBM] [Warning] No further splits with positive gain, best gain: -inf\n",
      "[LightGBM] [Warning] No further splits with positive gain, best gain: -inf\n",
      "[LightGBM] [Warning] No further splits with positive gain, best gain: -inf\n",
      "[LightGBM] [Warning] No further splits with positive gain, best gain: -inf\n",
      "[LightGBM] [Warning] No further splits with positive gain, best gain: -inf\n",
      "[LightGBM] [Warning] No further splits with positive gain, best gain: -inf\n",
      "[LightGBM] [Warning] No further splits with positive gain, best gain: -inf\n",
      "[LightGBM] [Warning] No further splits with positive gain, best gain: -inf\n",
      "[LightGBM] [Warning] No further splits with positive gain, best gain: -inf\n",
      "[LightGBM] [Warning] No further splits with positive gain, best gain: -inf\n",
      "[LightGBM] [Warning] No further splits with positive gain, best gain: -inf\n",
      "[LightGBM] [Warning] No further splits with positive gain, best gain: -inf\n",
      "[LightGBM] [Warning] No further splits with positive gain, best gain: -inf\n",
      "[LightGBM] [Warning] No further splits with positive gain, best gain: -inf\n",
      "[LightGBM] [Warning] No further splits with positive gain, best gain: -inf\n",
      "[LightGBM] [Warning] No further splits with positive gain, best gain: -inf\n",
      "[LightGBM] [Warning] No further splits with positive gain, best gain: -inf\n",
      "[LightGBM] [Warning] No further splits with positive gain, best gain: -inf\n",
      "[LightGBM] [Warning] No further splits with positive gain, best gain: -inf\n",
      "[LightGBM] [Warning] No further splits with positive gain, best gain: -inf\n",
      "[LightGBM] [Warning] No further splits with positive gain, best gain: -inf\n",
      "[LightGBM] [Warning] No further splits with positive gain, best gain: -inf\n",
      "[LightGBM] [Warning] No further splits with positive gain, best gain: -inf\n",
      "[LightGBM] [Warning] No further splits with positive gain, best gain: -inf\n",
      "[LightGBM] [Warning] No further splits with positive gain, best gain: -inf\n",
      "[LightGBM] [Warning] No further splits with positive gain, best gain: -inf\n",
      "[LightGBM] [Warning] No further splits with positive gain, best gain: -inf\n",
      "[LightGBM] [Warning] No further splits with positive gain, best gain: -inf\n",
      "[LightGBM] [Warning] No further splits with positive gain, best gain: -inf\n",
      "[LightGBM] [Warning] No further splits with positive gain, best gain: -inf\n",
      "[LightGBM] [Warning] No further splits with positive gain, best gain: -inf\n",
      "[LightGBM] [Warning] No further splits with positive gain, best gain: -inf\n",
      "[LightGBM] [Warning] No further splits with positive gain, best gain: -inf\n",
      "[LightGBM] [Warning] No further splits with positive gain, best gain: -inf\n",
      "[LightGBM] [Warning] No further splits with positive gain, best gain: -inf\n",
      "[LightGBM] [Warning] No further splits with positive gain, best gain: -inf\n",
      "[LightGBM] [Warning] No further splits with positive gain, best gain: -inf\n",
      "[LightGBM] [Warning] No further splits with positive gain, best gain: -inf\n",
      "[LightGBM] [Warning] No further splits with positive gain, best gain: -inf\n",
      "[LightGBM] [Warning] No further splits with positive gain, best gain: -inf\n",
      "[LightGBM] [Warning] No further splits with positive gain, best gain: -inf\n",
      "[LightGBM] [Warning] No further splits with positive gain, best gain: -inf\n",
      "[LightGBM] [Warning] No further splits with positive gain, best gain: -inf\n",
      "[LightGBM] [Warning] No further splits with positive gain, best gain: -inf\n",
      "[LightGBM] [Warning] No further splits with positive gain, best gain: -inf\n",
      "[LightGBM] [Warning] No further splits with positive gain, best gain: -inf\n",
      "[LightGBM] [Warning] No further splits with positive gain, best gain: -inf\n",
      "[LightGBM] [Warning] No further splits with positive gain, best gain: -inf\n",
      "[LightGBM] [Warning] No further splits with positive gain, best gain: -inf\n",
      "[LightGBM] [Warning] No further splits with positive gain, best gain: -inf\n",
      "[LightGBM] [Warning] No further splits with positive gain, best gain: -inf\n",
      "[LightGBM] [Warning] No further splits with positive gain, best gain: -inf\n",
      "[LightGBM] [Warning] No further splits with positive gain, best gain: -inf\n",
      "[LightGBM] [Warning] No further splits with positive gain, best gain: -inf\n",
      "[LightGBM] [Warning] No further splits with positive gain, best gain: -inf\n",
      "[LightGBM] [Warning] No further splits with positive gain, best gain: -inf\n",
      "[LightGBM] [Warning] No further splits with positive gain, best gain: -inf\n",
      "[LightGBM] [Warning] No further splits with positive gain, best gain: -inf\n",
      "[LightGBM] [Warning] No further splits with positive gain, best gain: -inf\n",
      "[LightGBM] [Warning] No further splits with positive gain, best gain: -inf\n",
      "[LightGBM] [Warning] No further splits with positive gain, best gain: -inf\n",
      "[LightGBM] [Warning] No further splits with positive gain, best gain: -inf\n",
      "[LightGBM] [Warning] No further splits with positive gain, best gain: -inf\n",
      "[LightGBM] [Warning] No further splits with positive gain, best gain: -inf\n",
      "[LightGBM] [Warning] No further splits with positive gain, best gain: -inf\n",
      "[LightGBM] [Warning] No further splits with positive gain, best gain: -inf\n",
      "[LightGBM] [Warning] No further splits with positive gain, best gain: -inf\n",
      "[LightGBM] [Warning] No further splits with positive gain, best gain: -inf\n",
      "[LightGBM] [Warning] No further splits with positive gain, best gain: -inf\n",
      "[LightGBM] [Warning] No further splits with positive gain, best gain: -inf\n",
      "[LightGBM] [Warning] No further splits with positive gain, best gain: -inf\n",
      "[LightGBM] [Warning] No further splits with positive gain, best gain: -inf\n",
      "[LightGBM] [Warning] No further splits with positive gain, best gain: -inf\n",
      "[LightGBM] [Warning] No further splits with positive gain, best gain: -inf\n",
      "[LightGBM] [Warning] No further splits with positive gain, best gain: -inf\n",
      "[LightGBM] [Warning] No further splits with positive gain, best gain: -inf\n",
      "[LightGBM] [Warning] No further splits with positive gain, best gain: -inf\n",
      "[LightGBM] [Warning] No further splits with positive gain, best gain: -inf\n"
     ]
    },
    {
     "data": {
      "text/html": [
       "<style>#sk-container-id-1 {\n",
       "  /* Definition of color scheme common for light and dark mode */\n",
       "  --sklearn-color-text: #000;\n",
       "  --sklearn-color-text-muted: #666;\n",
       "  --sklearn-color-line: gray;\n",
       "  /* Definition of color scheme for unfitted estimators */\n",
       "  --sklearn-color-unfitted-level-0: #fff5e6;\n",
       "  --sklearn-color-unfitted-level-1: #f6e4d2;\n",
       "  --sklearn-color-unfitted-level-2: #ffe0b3;\n",
       "  --sklearn-color-unfitted-level-3: chocolate;\n",
       "  /* Definition of color scheme for fitted estimators */\n",
       "  --sklearn-color-fitted-level-0: #f0f8ff;\n",
       "  --sklearn-color-fitted-level-1: #d4ebff;\n",
       "  --sklearn-color-fitted-level-2: #b3dbfd;\n",
       "  --sklearn-color-fitted-level-3: cornflowerblue;\n",
       "\n",
       "  /* Specific color for light theme */\n",
       "  --sklearn-color-text-on-default-background: var(--sg-text-color, var(--theme-code-foreground, var(--jp-content-font-color1, black)));\n",
       "  --sklearn-color-background: var(--sg-background-color, var(--theme-background, var(--jp-layout-color0, white)));\n",
       "  --sklearn-color-border-box: var(--sg-text-color, var(--theme-code-foreground, var(--jp-content-font-color1, black)));\n",
       "  --sklearn-color-icon: #696969;\n",
       "\n",
       "  @media (prefers-color-scheme: dark) {\n",
       "    /* Redefinition of color scheme for dark theme */\n",
       "    --sklearn-color-text-on-default-background: var(--sg-text-color, var(--theme-code-foreground, var(--jp-content-font-color1, white)));\n",
       "    --sklearn-color-background: var(--sg-background-color, var(--theme-background, var(--jp-layout-color0, #111)));\n",
       "    --sklearn-color-border-box: var(--sg-text-color, var(--theme-code-foreground, var(--jp-content-font-color1, white)));\n",
       "    --sklearn-color-icon: #878787;\n",
       "  }\n",
       "}\n",
       "\n",
       "#sk-container-id-1 {\n",
       "  color: var(--sklearn-color-text);\n",
       "}\n",
       "\n",
       "#sk-container-id-1 pre {\n",
       "  padding: 0;\n",
       "}\n",
       "\n",
       "#sk-container-id-1 input.sk-hidden--visually {\n",
       "  border: 0;\n",
       "  clip: rect(1px 1px 1px 1px);\n",
       "  clip: rect(1px, 1px, 1px, 1px);\n",
       "  height: 1px;\n",
       "  margin: -1px;\n",
       "  overflow: hidden;\n",
       "  padding: 0;\n",
       "  position: absolute;\n",
       "  width: 1px;\n",
       "}\n",
       "\n",
       "#sk-container-id-1 div.sk-dashed-wrapped {\n",
       "  border: 1px dashed var(--sklearn-color-line);\n",
       "  margin: 0 0.4em 0.5em 0.4em;\n",
       "  box-sizing: border-box;\n",
       "  padding-bottom: 0.4em;\n",
       "  background-color: var(--sklearn-color-background);\n",
       "}\n",
       "\n",
       "#sk-container-id-1 div.sk-container {\n",
       "  /* jupyter's `normalize.less` sets `[hidden] { display: none; }`\n",
       "     but bootstrap.min.css set `[hidden] { display: none !important; }`\n",
       "     so we also need the `!important` here to be able to override the\n",
       "     default hidden behavior on the sphinx rendered scikit-learn.org.\n",
       "     See: https://github.com/scikit-learn/scikit-learn/issues/21755 */\n",
       "  display: inline-block !important;\n",
       "  position: relative;\n",
       "}\n",
       "\n",
       "#sk-container-id-1 div.sk-text-repr-fallback {\n",
       "  display: none;\n",
       "}\n",
       "\n",
       "div.sk-parallel-item,\n",
       "div.sk-serial,\n",
       "div.sk-item {\n",
       "  /* draw centered vertical line to link estimators */\n",
       "  background-image: linear-gradient(var(--sklearn-color-text-on-default-background), var(--sklearn-color-text-on-default-background));\n",
       "  background-size: 2px 100%;\n",
       "  background-repeat: no-repeat;\n",
       "  background-position: center center;\n",
       "}\n",
       "\n",
       "/* Parallel-specific style estimator block */\n",
       "\n",
       "#sk-container-id-1 div.sk-parallel-item::after {\n",
       "  content: \"\";\n",
       "  width: 100%;\n",
       "  border-bottom: 2px solid var(--sklearn-color-text-on-default-background);\n",
       "  flex-grow: 1;\n",
       "}\n",
       "\n",
       "#sk-container-id-1 div.sk-parallel {\n",
       "  display: flex;\n",
       "  align-items: stretch;\n",
       "  justify-content: center;\n",
       "  background-color: var(--sklearn-color-background);\n",
       "  position: relative;\n",
       "}\n",
       "\n",
       "#sk-container-id-1 div.sk-parallel-item {\n",
       "  display: flex;\n",
       "  flex-direction: column;\n",
       "}\n",
       "\n",
       "#sk-container-id-1 div.sk-parallel-item:first-child::after {\n",
       "  align-self: flex-end;\n",
       "  width: 50%;\n",
       "}\n",
       "\n",
       "#sk-container-id-1 div.sk-parallel-item:last-child::after {\n",
       "  align-self: flex-start;\n",
       "  width: 50%;\n",
       "}\n",
       "\n",
       "#sk-container-id-1 div.sk-parallel-item:only-child::after {\n",
       "  width: 0;\n",
       "}\n",
       "\n",
       "/* Serial-specific style estimator block */\n",
       "\n",
       "#sk-container-id-1 div.sk-serial {\n",
       "  display: flex;\n",
       "  flex-direction: column;\n",
       "  align-items: center;\n",
       "  background-color: var(--sklearn-color-background);\n",
       "  padding-right: 1em;\n",
       "  padding-left: 1em;\n",
       "}\n",
       "\n",
       "\n",
       "/* Toggleable style: style used for estimator/Pipeline/ColumnTransformer box that is\n",
       "clickable and can be expanded/collapsed.\n",
       "- Pipeline and ColumnTransformer use this feature and define the default style\n",
       "- Estimators will overwrite some part of the style using the `sk-estimator` class\n",
       "*/\n",
       "\n",
       "/* Pipeline and ColumnTransformer style (default) */\n",
       "\n",
       "#sk-container-id-1 div.sk-toggleable {\n",
       "  /* Default theme specific background. It is overwritten whether we have a\n",
       "  specific estimator or a Pipeline/ColumnTransformer */\n",
       "  background-color: var(--sklearn-color-background);\n",
       "}\n",
       "\n",
       "/* Toggleable label */\n",
       "#sk-container-id-1 label.sk-toggleable__label {\n",
       "  cursor: pointer;\n",
       "  display: flex;\n",
       "  width: 100%;\n",
       "  margin-bottom: 0;\n",
       "  padding: 0.5em;\n",
       "  box-sizing: border-box;\n",
       "  text-align: center;\n",
       "  align-items: start;\n",
       "  justify-content: space-between;\n",
       "  gap: 0.5em;\n",
       "}\n",
       "\n",
       "#sk-container-id-1 label.sk-toggleable__label .caption {\n",
       "  font-size: 0.6rem;\n",
       "  font-weight: lighter;\n",
       "  color: var(--sklearn-color-text-muted);\n",
       "}\n",
       "\n",
       "#sk-container-id-1 label.sk-toggleable__label-arrow:before {\n",
       "  /* Arrow on the left of the label */\n",
       "  content: \"▸\";\n",
       "  float: left;\n",
       "  margin-right: 0.25em;\n",
       "  color: var(--sklearn-color-icon);\n",
       "}\n",
       "\n",
       "#sk-container-id-1 label.sk-toggleable__label-arrow:hover:before {\n",
       "  color: var(--sklearn-color-text);\n",
       "}\n",
       "\n",
       "/* Toggleable content - dropdown */\n",
       "\n",
       "#sk-container-id-1 div.sk-toggleable__content {\n",
       "  display: none;\n",
       "  text-align: left;\n",
       "  /* unfitted */\n",
       "  background-color: var(--sklearn-color-unfitted-level-0);\n",
       "}\n",
       "\n",
       "#sk-container-id-1 div.sk-toggleable__content.fitted {\n",
       "  /* fitted */\n",
       "  background-color: var(--sklearn-color-fitted-level-0);\n",
       "}\n",
       "\n",
       "#sk-container-id-1 div.sk-toggleable__content pre {\n",
       "  margin: 0.2em;\n",
       "  border-radius: 0.25em;\n",
       "  color: var(--sklearn-color-text);\n",
       "  /* unfitted */\n",
       "  background-color: var(--sklearn-color-unfitted-level-0);\n",
       "}\n",
       "\n",
       "#sk-container-id-1 div.sk-toggleable__content.fitted pre {\n",
       "  /* unfitted */\n",
       "  background-color: var(--sklearn-color-fitted-level-0);\n",
       "}\n",
       "\n",
       "#sk-container-id-1 input.sk-toggleable__control:checked~div.sk-toggleable__content {\n",
       "  /* Expand drop-down */\n",
       "  display: block;\n",
       "  width: 100%;\n",
       "  overflow: visible;\n",
       "}\n",
       "\n",
       "#sk-container-id-1 input.sk-toggleable__control:checked~label.sk-toggleable__label-arrow:before {\n",
       "  content: \"▾\";\n",
       "}\n",
       "\n",
       "/* Pipeline/ColumnTransformer-specific style */\n",
       "\n",
       "#sk-container-id-1 div.sk-label input.sk-toggleable__control:checked~label.sk-toggleable__label {\n",
       "  color: var(--sklearn-color-text);\n",
       "  background-color: var(--sklearn-color-unfitted-level-2);\n",
       "}\n",
       "\n",
       "#sk-container-id-1 div.sk-label.fitted input.sk-toggleable__control:checked~label.sk-toggleable__label {\n",
       "  background-color: var(--sklearn-color-fitted-level-2);\n",
       "}\n",
       "\n",
       "/* Estimator-specific style */\n",
       "\n",
       "/* Colorize estimator box */\n",
       "#sk-container-id-1 div.sk-estimator input.sk-toggleable__control:checked~label.sk-toggleable__label {\n",
       "  /* unfitted */\n",
       "  background-color: var(--sklearn-color-unfitted-level-2);\n",
       "}\n",
       "\n",
       "#sk-container-id-1 div.sk-estimator.fitted input.sk-toggleable__control:checked~label.sk-toggleable__label {\n",
       "  /* fitted */\n",
       "  background-color: var(--sklearn-color-fitted-level-2);\n",
       "}\n",
       "\n",
       "#sk-container-id-1 div.sk-label label.sk-toggleable__label,\n",
       "#sk-container-id-1 div.sk-label label {\n",
       "  /* The background is the default theme color */\n",
       "  color: var(--sklearn-color-text-on-default-background);\n",
       "}\n",
       "\n",
       "/* On hover, darken the color of the background */\n",
       "#sk-container-id-1 div.sk-label:hover label.sk-toggleable__label {\n",
       "  color: var(--sklearn-color-text);\n",
       "  background-color: var(--sklearn-color-unfitted-level-2);\n",
       "}\n",
       "\n",
       "/* Label box, darken color on hover, fitted */\n",
       "#sk-container-id-1 div.sk-label.fitted:hover label.sk-toggleable__label.fitted {\n",
       "  color: var(--sklearn-color-text);\n",
       "  background-color: var(--sklearn-color-fitted-level-2);\n",
       "}\n",
       "\n",
       "/* Estimator label */\n",
       "\n",
       "#sk-container-id-1 div.sk-label label {\n",
       "  font-family: monospace;\n",
       "  font-weight: bold;\n",
       "  display: inline-block;\n",
       "  line-height: 1.2em;\n",
       "}\n",
       "\n",
       "#sk-container-id-1 div.sk-label-container {\n",
       "  text-align: center;\n",
       "}\n",
       "\n",
       "/* Estimator-specific */\n",
       "#sk-container-id-1 div.sk-estimator {\n",
       "  font-family: monospace;\n",
       "  border: 1px dotted var(--sklearn-color-border-box);\n",
       "  border-radius: 0.25em;\n",
       "  box-sizing: border-box;\n",
       "  margin-bottom: 0.5em;\n",
       "  /* unfitted */\n",
       "  background-color: var(--sklearn-color-unfitted-level-0);\n",
       "}\n",
       "\n",
       "#sk-container-id-1 div.sk-estimator.fitted {\n",
       "  /* fitted */\n",
       "  background-color: var(--sklearn-color-fitted-level-0);\n",
       "}\n",
       "\n",
       "/* on hover */\n",
       "#sk-container-id-1 div.sk-estimator:hover {\n",
       "  /* unfitted */\n",
       "  background-color: var(--sklearn-color-unfitted-level-2);\n",
       "}\n",
       "\n",
       "#sk-container-id-1 div.sk-estimator.fitted:hover {\n",
       "  /* fitted */\n",
       "  background-color: var(--sklearn-color-fitted-level-2);\n",
       "}\n",
       "\n",
       "/* Specification for estimator info (e.g. \"i\" and \"?\") */\n",
       "\n",
       "/* Common style for \"i\" and \"?\" */\n",
       "\n",
       ".sk-estimator-doc-link,\n",
       "a:link.sk-estimator-doc-link,\n",
       "a:visited.sk-estimator-doc-link {\n",
       "  float: right;\n",
       "  font-size: smaller;\n",
       "  line-height: 1em;\n",
       "  font-family: monospace;\n",
       "  background-color: var(--sklearn-color-background);\n",
       "  border-radius: 1em;\n",
       "  height: 1em;\n",
       "  width: 1em;\n",
       "  text-decoration: none !important;\n",
       "  margin-left: 0.5em;\n",
       "  text-align: center;\n",
       "  /* unfitted */\n",
       "  border: var(--sklearn-color-unfitted-level-1) 1pt solid;\n",
       "  color: var(--sklearn-color-unfitted-level-1);\n",
       "}\n",
       "\n",
       ".sk-estimator-doc-link.fitted,\n",
       "a:link.sk-estimator-doc-link.fitted,\n",
       "a:visited.sk-estimator-doc-link.fitted {\n",
       "  /* fitted */\n",
       "  border: var(--sklearn-color-fitted-level-1) 1pt solid;\n",
       "  color: var(--sklearn-color-fitted-level-1);\n",
       "}\n",
       "\n",
       "/* On hover */\n",
       "div.sk-estimator:hover .sk-estimator-doc-link:hover,\n",
       ".sk-estimator-doc-link:hover,\n",
       "div.sk-label-container:hover .sk-estimator-doc-link:hover,\n",
       ".sk-estimator-doc-link:hover {\n",
       "  /* unfitted */\n",
       "  background-color: var(--sklearn-color-unfitted-level-3);\n",
       "  color: var(--sklearn-color-background);\n",
       "  text-decoration: none;\n",
       "}\n",
       "\n",
       "div.sk-estimator.fitted:hover .sk-estimator-doc-link.fitted:hover,\n",
       ".sk-estimator-doc-link.fitted:hover,\n",
       "div.sk-label-container:hover .sk-estimator-doc-link.fitted:hover,\n",
       ".sk-estimator-doc-link.fitted:hover {\n",
       "  /* fitted */\n",
       "  background-color: var(--sklearn-color-fitted-level-3);\n",
       "  color: var(--sklearn-color-background);\n",
       "  text-decoration: none;\n",
       "}\n",
       "\n",
       "/* Span, style for the box shown on hovering the info icon */\n",
       ".sk-estimator-doc-link span {\n",
       "  display: none;\n",
       "  z-index: 9999;\n",
       "  position: relative;\n",
       "  font-weight: normal;\n",
       "  right: .2ex;\n",
       "  padding: .5ex;\n",
       "  margin: .5ex;\n",
       "  width: min-content;\n",
       "  min-width: 20ex;\n",
       "  max-width: 50ex;\n",
       "  color: var(--sklearn-color-text);\n",
       "  box-shadow: 2pt 2pt 4pt #999;\n",
       "  /* unfitted */\n",
       "  background: var(--sklearn-color-unfitted-level-0);\n",
       "  border: .5pt solid var(--sklearn-color-unfitted-level-3);\n",
       "}\n",
       "\n",
       ".sk-estimator-doc-link.fitted span {\n",
       "  /* fitted */\n",
       "  background: var(--sklearn-color-fitted-level-0);\n",
       "  border: var(--sklearn-color-fitted-level-3);\n",
       "}\n",
       "\n",
       ".sk-estimator-doc-link:hover span {\n",
       "  display: block;\n",
       "}\n",
       "\n",
       "/* \"?\"-specific style due to the `<a>` HTML tag */\n",
       "\n",
       "#sk-container-id-1 a.estimator_doc_link {\n",
       "  float: right;\n",
       "  font-size: 1rem;\n",
       "  line-height: 1em;\n",
       "  font-family: monospace;\n",
       "  background-color: var(--sklearn-color-background);\n",
       "  border-radius: 1rem;\n",
       "  height: 1rem;\n",
       "  width: 1rem;\n",
       "  text-decoration: none;\n",
       "  /* unfitted */\n",
       "  color: var(--sklearn-color-unfitted-level-1);\n",
       "  border: var(--sklearn-color-unfitted-level-1) 1pt solid;\n",
       "}\n",
       "\n",
       "#sk-container-id-1 a.estimator_doc_link.fitted {\n",
       "  /* fitted */\n",
       "  border: var(--sklearn-color-fitted-level-1) 1pt solid;\n",
       "  color: var(--sklearn-color-fitted-level-1);\n",
       "}\n",
       "\n",
       "/* On hover */\n",
       "#sk-container-id-1 a.estimator_doc_link:hover {\n",
       "  /* unfitted */\n",
       "  background-color: var(--sklearn-color-unfitted-level-3);\n",
       "  color: var(--sklearn-color-background);\n",
       "  text-decoration: none;\n",
       "}\n",
       "\n",
       "#sk-container-id-1 a.estimator_doc_link.fitted:hover {\n",
       "  /* fitted */\n",
       "  background-color: var(--sklearn-color-fitted-level-3);\n",
       "}\n",
       "\n",
       ".estimator-table summary {\n",
       "    padding: .5rem;\n",
       "    font-family: monospace;\n",
       "    cursor: pointer;\n",
       "}\n",
       "\n",
       ".estimator-table details[open] {\n",
       "    padding-left: 0.1rem;\n",
       "    padding-right: 0.1rem;\n",
       "    padding-bottom: 0.3rem;\n",
       "}\n",
       "\n",
       ".estimator-table .parameters-table {\n",
       "    margin-left: auto !important;\n",
       "    margin-right: auto !important;\n",
       "}\n",
       "\n",
       ".estimator-table .parameters-table tr:nth-child(odd) {\n",
       "    background-color: #fff;\n",
       "}\n",
       "\n",
       ".estimator-table .parameters-table tr:nth-child(even) {\n",
       "    background-color: #f6f6f6;\n",
       "}\n",
       "\n",
       ".estimator-table .parameters-table tr:hover {\n",
       "    background-color: #e0e0e0;\n",
       "}\n",
       "\n",
       ".estimator-table table td {\n",
       "    border: 1px solid rgba(106, 105, 104, 0.232);\n",
       "}\n",
       "\n",
       ".user-set td {\n",
       "    color:rgb(255, 94, 0);\n",
       "    text-align: left;\n",
       "}\n",
       "\n",
       ".user-set td.value pre {\n",
       "    color:rgb(255, 94, 0) !important;\n",
       "    background-color: transparent !important;\n",
       "}\n",
       "\n",
       ".default td {\n",
       "    color: black;\n",
       "    text-align: left;\n",
       "}\n",
       "\n",
       ".user-set td i,\n",
       ".default td i {\n",
       "    color: black;\n",
       "}\n",
       "\n",
       ".copy-paste-icon {\n",
       "    background-image: url(data:image/svg+xml;base64,PHN2ZyB4bWxucz0iaHR0cDovL3d3dy53My5vcmcvMjAwMC9zdmciIHZpZXdCb3g9IjAgMCA0NDggNTEyIj48IS0tIUZvbnQgQXdlc29tZSBGcmVlIDYuNy4yIGJ5IEBmb250YXdlc29tZSAtIGh0dHBzOi8vZm9udGF3ZXNvbWUuY29tIExpY2Vuc2UgLSBodHRwczovL2ZvbnRhd2Vzb21lLmNvbS9saWNlbnNlL2ZyZWUgQ29weXJpZ2h0IDIwMjUgRm9udGljb25zLCBJbmMuLS0+PHBhdGggZD0iTTIwOCAwTDMzMi4xIDBjMTIuNyAwIDI0LjkgNS4xIDMzLjkgMTQuMWw2Ny45IDY3LjljOSA5IDE0LjEgMjEuMiAxNC4xIDMzLjlMNDQ4IDMzNmMwIDI2LjUtMjEuNSA0OC00OCA0OGwtMTkyIDBjLTI2LjUgMC00OC0yMS41LTQ4LTQ4bDAtMjg4YzAtMjYuNSAyMS41LTQ4IDQ4LTQ4ek00OCAxMjhsODAgMCAwIDY0LTY0IDAgMCAyNTYgMTkyIDAgMC0zMiA2NCAwIDAgNDhjMCAyNi41LTIxLjUgNDgtNDggNDhMNDggNTEyYy0yNi41IDAtNDgtMjEuNS00OC00OEwwIDE3NmMwLTI2LjUgMjEuNS00OCA0OC00OHoiLz48L3N2Zz4=);\n",
       "    background-repeat: no-repeat;\n",
       "    background-size: 14px 14px;\n",
       "    background-position: 0;\n",
       "    display: inline-block;\n",
       "    width: 14px;\n",
       "    height: 14px;\n",
       "    cursor: pointer;\n",
       "}\n",
       "</style><body><div id=\"sk-container-id-1\" class=\"sk-top-container\"><div class=\"sk-text-repr-fallback\"><pre>LGBMClassifier(class_weight=&#x27;balanced&#x27;, is_unbalance=True, learning_rate=0.09,\n",
       "               max_depth=20, metric=&#x27;multi_logloss&#x27;, n_estimators=367,\n",
       "               num_class=3, objective=&#x27;multiclass&#x27;, reg_alpha=0.1,\n",
       "               reg_lambda=0.1)</pre><b>In a Jupyter environment, please rerun this cell to show the HTML representation or trust the notebook. <br />On GitHub, the HTML representation is unable to render, please try loading this page with nbviewer.org.</b></div><div class=\"sk-container\" hidden><div class=\"sk-item\"><div class=\"sk-estimator fitted sk-toggleable\"><input class=\"sk-toggleable__control sk-hidden--visually\" id=\"sk-estimator-id-1\" type=\"checkbox\" checked><label for=\"sk-estimator-id-1\" class=\"sk-toggleable__label fitted sk-toggleable__label-arrow\"><div><div>LGBMClassifier</div></div><div><span class=\"sk-estimator-doc-link fitted\">i<span>Fitted</span></span></div></label><div class=\"sk-toggleable__content fitted\" data-param-prefix=\"\">\n",
       "        <div class=\"estimator-table\">\n",
       "            <details>\n",
       "                <summary>Parameters</summary>\n",
       "                <table class=\"parameters-table\">\n",
       "                  <tbody>\n",
       "                    \n",
       "        <tr class=\"default\">\n",
       "            <td><i class=\"copy-paste-icon\"\n",
       "                 onclick=\"copyToClipboard('boosting_type',\n",
       "                          this.parentElement.nextElementSibling)\"\n",
       "            ></i></td>\n",
       "            <td class=\"param\">boosting_type&nbsp;</td>\n",
       "            <td class=\"value\">&#x27;gbdt&#x27;</td>\n",
       "        </tr>\n",
       "    \n",
       "\n",
       "        <tr class=\"default\">\n",
       "            <td><i class=\"copy-paste-icon\"\n",
       "                 onclick=\"copyToClipboard('num_leaves',\n",
       "                          this.parentElement.nextElementSibling)\"\n",
       "            ></i></td>\n",
       "            <td class=\"param\">num_leaves&nbsp;</td>\n",
       "            <td class=\"value\">31</td>\n",
       "        </tr>\n",
       "    \n",
       "\n",
       "        <tr class=\"user-set\">\n",
       "            <td><i class=\"copy-paste-icon\"\n",
       "                 onclick=\"copyToClipboard('max_depth',\n",
       "                          this.parentElement.nextElementSibling)\"\n",
       "            ></i></td>\n",
       "            <td class=\"param\">max_depth&nbsp;</td>\n",
       "            <td class=\"value\">20</td>\n",
       "        </tr>\n",
       "    \n",
       "\n",
       "        <tr class=\"user-set\">\n",
       "            <td><i class=\"copy-paste-icon\"\n",
       "                 onclick=\"copyToClipboard('learning_rate',\n",
       "                          this.parentElement.nextElementSibling)\"\n",
       "            ></i></td>\n",
       "            <td class=\"param\">learning_rate&nbsp;</td>\n",
       "            <td class=\"value\">0.09</td>\n",
       "        </tr>\n",
       "    \n",
       "\n",
       "        <tr class=\"user-set\">\n",
       "            <td><i class=\"copy-paste-icon\"\n",
       "                 onclick=\"copyToClipboard('n_estimators',\n",
       "                          this.parentElement.nextElementSibling)\"\n",
       "            ></i></td>\n",
       "            <td class=\"param\">n_estimators&nbsp;</td>\n",
       "            <td class=\"value\">367</td>\n",
       "        </tr>\n",
       "    \n",
       "\n",
       "        <tr class=\"default\">\n",
       "            <td><i class=\"copy-paste-icon\"\n",
       "                 onclick=\"copyToClipboard('subsample_for_bin',\n",
       "                          this.parentElement.nextElementSibling)\"\n",
       "            ></i></td>\n",
       "            <td class=\"param\">subsample_for_bin&nbsp;</td>\n",
       "            <td class=\"value\">200000</td>\n",
       "        </tr>\n",
       "    \n",
       "\n",
       "        <tr class=\"user-set\">\n",
       "            <td><i class=\"copy-paste-icon\"\n",
       "                 onclick=\"copyToClipboard('objective',\n",
       "                          this.parentElement.nextElementSibling)\"\n",
       "            ></i></td>\n",
       "            <td class=\"param\">objective&nbsp;</td>\n",
       "            <td class=\"value\">&#x27;multiclass&#x27;</td>\n",
       "        </tr>\n",
       "    \n",
       "\n",
       "        <tr class=\"user-set\">\n",
       "            <td><i class=\"copy-paste-icon\"\n",
       "                 onclick=\"copyToClipboard('class_weight',\n",
       "                          this.parentElement.nextElementSibling)\"\n",
       "            ></i></td>\n",
       "            <td class=\"param\">class_weight&nbsp;</td>\n",
       "            <td class=\"value\">&#x27;balanced&#x27;</td>\n",
       "        </tr>\n",
       "    \n",
       "\n",
       "        <tr class=\"default\">\n",
       "            <td><i class=\"copy-paste-icon\"\n",
       "                 onclick=\"copyToClipboard('min_split_gain',\n",
       "                          this.parentElement.nextElementSibling)\"\n",
       "            ></i></td>\n",
       "            <td class=\"param\">min_split_gain&nbsp;</td>\n",
       "            <td class=\"value\">0.0</td>\n",
       "        </tr>\n",
       "    \n",
       "\n",
       "        <tr class=\"default\">\n",
       "            <td><i class=\"copy-paste-icon\"\n",
       "                 onclick=\"copyToClipboard('min_child_weight',\n",
       "                          this.parentElement.nextElementSibling)\"\n",
       "            ></i></td>\n",
       "            <td class=\"param\">min_child_weight&nbsp;</td>\n",
       "            <td class=\"value\">0.001</td>\n",
       "        </tr>\n",
       "    \n",
       "\n",
       "        <tr class=\"default\">\n",
       "            <td><i class=\"copy-paste-icon\"\n",
       "                 onclick=\"copyToClipboard('min_child_samples',\n",
       "                          this.parentElement.nextElementSibling)\"\n",
       "            ></i></td>\n",
       "            <td class=\"param\">min_child_samples&nbsp;</td>\n",
       "            <td class=\"value\">20</td>\n",
       "        </tr>\n",
       "    \n",
       "\n",
       "        <tr class=\"default\">\n",
       "            <td><i class=\"copy-paste-icon\"\n",
       "                 onclick=\"copyToClipboard('subsample',\n",
       "                          this.parentElement.nextElementSibling)\"\n",
       "            ></i></td>\n",
       "            <td class=\"param\">subsample&nbsp;</td>\n",
       "            <td class=\"value\">1.0</td>\n",
       "        </tr>\n",
       "    \n",
       "\n",
       "        <tr class=\"default\">\n",
       "            <td><i class=\"copy-paste-icon\"\n",
       "                 onclick=\"copyToClipboard('subsample_freq',\n",
       "                          this.parentElement.nextElementSibling)\"\n",
       "            ></i></td>\n",
       "            <td class=\"param\">subsample_freq&nbsp;</td>\n",
       "            <td class=\"value\">0</td>\n",
       "        </tr>\n",
       "    \n",
       "\n",
       "        <tr class=\"default\">\n",
       "            <td><i class=\"copy-paste-icon\"\n",
       "                 onclick=\"copyToClipboard('colsample_bytree',\n",
       "                          this.parentElement.nextElementSibling)\"\n",
       "            ></i></td>\n",
       "            <td class=\"param\">colsample_bytree&nbsp;</td>\n",
       "            <td class=\"value\">1.0</td>\n",
       "        </tr>\n",
       "    \n",
       "\n",
       "        <tr class=\"user-set\">\n",
       "            <td><i class=\"copy-paste-icon\"\n",
       "                 onclick=\"copyToClipboard('reg_alpha',\n",
       "                          this.parentElement.nextElementSibling)\"\n",
       "            ></i></td>\n",
       "            <td class=\"param\">reg_alpha&nbsp;</td>\n",
       "            <td class=\"value\">0.1</td>\n",
       "        </tr>\n",
       "    \n",
       "\n",
       "        <tr class=\"user-set\">\n",
       "            <td><i class=\"copy-paste-icon\"\n",
       "                 onclick=\"copyToClipboard('reg_lambda',\n",
       "                          this.parentElement.nextElementSibling)\"\n",
       "            ></i></td>\n",
       "            <td class=\"param\">reg_lambda&nbsp;</td>\n",
       "            <td class=\"value\">0.1</td>\n",
       "        </tr>\n",
       "    \n",
       "\n",
       "        <tr class=\"default\">\n",
       "            <td><i class=\"copy-paste-icon\"\n",
       "                 onclick=\"copyToClipboard('random_state',\n",
       "                          this.parentElement.nextElementSibling)\"\n",
       "            ></i></td>\n",
       "            <td class=\"param\">random_state&nbsp;</td>\n",
       "            <td class=\"value\">None</td>\n",
       "        </tr>\n",
       "    \n",
       "\n",
       "        <tr class=\"default\">\n",
       "            <td><i class=\"copy-paste-icon\"\n",
       "                 onclick=\"copyToClipboard('n_jobs',\n",
       "                          this.parentElement.nextElementSibling)\"\n",
       "            ></i></td>\n",
       "            <td class=\"param\">n_jobs&nbsp;</td>\n",
       "            <td class=\"value\">None</td>\n",
       "        </tr>\n",
       "    \n",
       "\n",
       "        <tr class=\"default\">\n",
       "            <td><i class=\"copy-paste-icon\"\n",
       "                 onclick=\"copyToClipboard('importance_type',\n",
       "                          this.parentElement.nextElementSibling)\"\n",
       "            ></i></td>\n",
       "            <td class=\"param\">importance_type&nbsp;</td>\n",
       "            <td class=\"value\">&#x27;split&#x27;</td>\n",
       "        </tr>\n",
       "    \n",
       "\n",
       "        <tr class=\"user-set\">\n",
       "            <td><i class=\"copy-paste-icon\"\n",
       "                 onclick=\"copyToClipboard('num_class',\n",
       "                          this.parentElement.nextElementSibling)\"\n",
       "            ></i></td>\n",
       "            <td class=\"param\">num_class&nbsp;</td>\n",
       "            <td class=\"value\">3</td>\n",
       "        </tr>\n",
       "    \n",
       "\n",
       "        <tr class=\"user-set\">\n",
       "            <td><i class=\"copy-paste-icon\"\n",
       "                 onclick=\"copyToClipboard('metric',\n",
       "                          this.parentElement.nextElementSibling)\"\n",
       "            ></i></td>\n",
       "            <td class=\"param\">metric&nbsp;</td>\n",
       "            <td class=\"value\">&#x27;multi_logloss&#x27;</td>\n",
       "        </tr>\n",
       "    \n",
       "\n",
       "        <tr class=\"user-set\">\n",
       "            <td><i class=\"copy-paste-icon\"\n",
       "                 onclick=\"copyToClipboard('is_unbalance',\n",
       "                          this.parentElement.nextElementSibling)\"\n",
       "            ></i></td>\n",
       "            <td class=\"param\">is_unbalance&nbsp;</td>\n",
       "            <td class=\"value\">True</td>\n",
       "        </tr>\n",
       "    \n",
       "                  </tbody>\n",
       "                </table>\n",
       "            </details>\n",
       "        </div>\n",
       "    </div></div></div></div></div><script>function copyToClipboard(text, element) {\n",
       "    // Get the parameter prefix from the closest toggleable content\n",
       "    const toggleableContent = element.closest('.sk-toggleable__content');\n",
       "    const paramPrefix = toggleableContent ? toggleableContent.dataset.paramPrefix : '';\n",
       "    const fullParamName = paramPrefix ? `${paramPrefix}${text}` : text;\n",
       "\n",
       "    const originalStyle = element.style;\n",
       "    const computedStyle = window.getComputedStyle(element);\n",
       "    const originalWidth = computedStyle.width;\n",
       "    const originalHTML = element.innerHTML.replace('Copied!', '');\n",
       "\n",
       "    navigator.clipboard.writeText(fullParamName)\n",
       "        .then(() => {\n",
       "            element.style.width = originalWidth;\n",
       "            element.style.color = 'green';\n",
       "            element.innerHTML = \"Copied!\";\n",
       "\n",
       "            setTimeout(() => {\n",
       "                element.innerHTML = originalHTML;\n",
       "                element.style = originalStyle;\n",
       "            }, 2000);\n",
       "        })\n",
       "        .catch(err => {\n",
       "            console.error('Failed to copy:', err);\n",
       "            element.style.color = 'red';\n",
       "            element.innerHTML = \"Failed!\";\n",
       "            setTimeout(() => {\n",
       "                element.innerHTML = originalHTML;\n",
       "                element.style = originalStyle;\n",
       "            }, 2000);\n",
       "        });\n",
       "    return false;\n",
       "}\n",
       "\n",
       "document.querySelectorAll('.fa-regular.fa-copy').forEach(function(element) {\n",
       "    const toggleableContent = element.closest('.sk-toggleable__content');\n",
       "    const paramPrefix = toggleableContent ? toggleableContent.dataset.paramPrefix : '';\n",
       "    const paramName = element.parentElement.nextElementSibling.textContent.trim();\n",
       "    const fullParamName = paramPrefix ? `${paramPrefix}${paramName}` : paramName;\n",
       "\n",
       "    element.setAttribute('title', fullParamName);\n",
       "});\n",
       "</script></body>"
      ],
      "text/plain": [
       "LGBMClassifier(class_weight='balanced', is_unbalance=True, learning_rate=0.09,\n",
       "               max_depth=20, metric='multi_logloss', n_estimators=367,\n",
       "               num_class=3, objective='multiclass', reg_alpha=0.1,\n",
       "               reg_lambda=0.1)"
      ]
     },
     "execution_count": 19,
     "metadata": {},
     "output_type": "execute_result"
    }
   ],
   "source": [
    "model = lgb.LGBMClassifier(\n",
    "    objective='multiclass',\n",
    "    num_class=3,\n",
    "    metric=\"multi_logloss\",\n",
    "    is_unbalance=True,\n",
    "    class_weight=\"balanced\",\n",
    "    reg_alpha=0.1,  # L1 regularization\n",
    "    reg_lambda=0.1,  # L2 regularization\n",
    "    learning_rate=learning_rate,\n",
    "    max_depth=max_depth,\n",
    "    n_estimators=n_estimators\n",
    ")\n",
    "model.fit(X_train_tfidf, y_train)\n"
   ]
  },
  {
   "cell_type": "code",
   "execution_count": null,
   "id": "b17a07a3",
   "metadata": {},
   "outputs": [
    {
     "name": "stderr",
     "output_type": "stream",
     "text": [
      "c:\\Campusx\\Insightube\\.venv\\Lib\\site-packages\\sklearn\\utils\\validation.py:2749: UserWarning: X does not have valid feature names, but LGBMClassifier was fitted with feature names\n",
      "  warnings.warn(\n"
     ]
    },
    {
     "name": "stdout",
     "output_type": "stream",
     "text": [
      "Classification Report:\n",
      " {'-1': {'precision': 0.7913312693498452, 'recall': 0.7648114901256733, 'f1-score': 0.7778454047474133, 'support': 1671.0}, '0': {'precision': 0.8419232099619509, 'recall': 0.9408581368380363, 'f1-score': 0.8886454910551296, 'support': 2587.0}, '1': {'precision': 0.8980021030494216, 'recall': 0.8261851015801355, 'f1-score': 0.8605979173664763, 'support': 3101.0}, 'accuracy': 0.8525614893327897, 'macro avg': {'precision': 0.8437521941204059, 'recall': 0.8439515761812818, 'f1-score': 0.8423629377230064, 'support': 7359.0}, 'weighted avg': {'precision': 0.8540663699974745, 'recall': 0.8525614893327897, 'f1-score': 0.8516673051292282, 'support': 7359.0}}\n",
      "Confusion Matrix:\n",
      " [[1278  176  217]\n",
      " [  79 2434   74]\n",
      " [ 258  281 2562]]\n",
      "Accuracy Score: 0.8525614893327897\n"
     ]
    }
   ],
   "source": [
    "from sklearn.metrics import classification_report, confusion_matrix, accuracy_score\n",
    "\n",
    "X_test = test_df['clean_comment'].values\n",
    "y_test = test_df['category'].values\n",
    "X_test_tfidf = vectorizer.transform(X_test)\n",
    "\n",
    "y_pred = model.predict(X_test_tfidf)\n",
    "report = classification_report(y_test, y_pred, output_dict=True)\n",
    "cm = confusion_matrix(y_test, y_pred)\n",
    "accuracy_score = accuracy_score(y_test, y_pred)\n",
    "\n",
    "print(\"Classification Report:\\n\", report)\n",
    "print(\"Confusion Matrix:\\n\", cm)\n",
    "print(\"Accuracy Score:\", accuracy_score)"
   ]
  }
 ],
 "metadata": {
  "kernelspec": {
   "display_name": ".venv",
   "language": "python",
   "name": "python3"
  },
  "language_info": {
   "codemirror_mode": {
    "name": "ipython",
    "version": 3
   },
   "file_extension": ".py",
   "mimetype": "text/x-python",
   "name": "python",
   "nbconvert_exporter": "python",
   "pygments_lexer": "ipython3",
   "version": "3.12.10"
  }
 },
 "nbformat": 4,
 "nbformat_minor": 5
}
